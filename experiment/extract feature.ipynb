{
 "cells": [
  {
   "cell_type": "code",
   "execution_count": 19,
   "metadata": {
    "collapsed": false
   },
   "outputs": [],
   "source": [
    "import numpy as np\n",
    "import caffe\n",
    "from caffe_io import transform_image\n",
    "import matplotlib.pyplot as plt\n",
    "%matplotlib inline\n",
    "import cv2"
   ]
  },
  {
   "cell_type": "code",
   "execution_count": 20,
   "metadata": {
    "collapsed": false
   },
   "outputs": [],
   "source": [
    "image = caffe.io.load_image(\n",
    "    '/Users/ecsark/Documents/visualdb/project/wikiart/images/orest-kiprensky_young-gardener-1817.jpg')\n",
    "    #'/Users/ecsark/Documents/visualdb/project/wikiart/images/salvador-dali_still-life-pulpo-y-scorpa.jpg')\n",
    "    #'/Users/ecsark/Documents/visualdb/project/wikiart/images/david-burliuk_in-the-park.jpg')"
   ]
  },
  {
   "cell_type": "code",
   "execution_count": 30,
   "metadata": {
    "collapsed": false
   },
   "outputs": [],
   "source": [
    "caffe_root = '/Users/ecsark/Documents/visualdb/caffe/'\n",
    "model_weights = caffe_root + 'models/vgg/model.caffemodel'\n",
    "model_def = caffe_root + 'models/vgg/deploy.prototxt'\n",
    "net = caffe.Net(model_def, model_weights, caffe.TEST)\n",
    "net.blobs['data'].reshape(1, 3, 224, 224)"
   ]
  },
  {
   "cell_type": "code",
   "execution_count": 31,
   "metadata": {
    "collapsed": false
   },
   "outputs": [],
   "source": [
    "mu = np.array([104.0, 117.0, 123.0])\n",
    "transformer = caffe.io.Transformer({'data': net.blobs['data'].data.shape})\n",
    "transformer.set_transpose('data', (2,0,1))  # move image channels to outermost dimension\n",
    "transformer.set_mean('data', mu)            # subtract the dataset-mean value in each channel\n",
    "transformer.set_raw_scale('data', 255)      # rescale from [0, 1] to [0, 255]\n",
    "transformer.set_channel_swap('data', (2,1,0))  # swap channels from RGB to BGR"
   ]
  },
  {
   "cell_type": "code",
   "execution_count": 32,
   "metadata": {
    "collapsed": false
   },
   "outputs": [],
   "source": [
    "def reshape_image(image, new_dim=256, crop_dim=224):\n",
    "    dsize = (new_dim, new_dim)\n",
    "    crop_shape = (crop_dim, crop_dim)\n",
    "    reshaped_img = cv2.resize(image, dsize)\n",
    "    crop_amt = (new_dim-crop_dim) / 2\n",
    "    return reshaped_img[crop_amt:crop_amt+crop_dim, crop_amt:crop_amt+crop_dim]"
   ]
  },
  {
   "cell_type": "code",
   "execution_count": 33,
   "metadata": {
    "collapsed": false
   },
   "outputs": [
    {
     "name": "stdout",
     "output_type": "stream",
     "text": [
      "[[ 0.49621016  0.          0.         ...,  0.          0.          0.        ]]\n"
     ]
    }
   ],
   "source": [
    "net.blobs['data'].data[...] = transformer.preprocess('data', reshape_image(image, new_dim=256, crop_dim=224))\n",
    "_ = net.forward()\n",
    "print net.blobs['fc7'].data"
   ]
  },
  {
   "cell_type": "code",
   "execution_count": null,
   "metadata": {
    "collapsed": false
   },
   "outputs": [],
   "source": [
    "type(fc7)"
   ]
  },
  {
   "cell_type": "code",
   "execution_count": null,
   "metadata": {
    "collapsed": true
   },
   "outputs": [],
   "source": [
    "import cPickle as pickle\n",
    "fc7 = pickle.load(open('/Users/ecsark/Documents/visualdb/project/artwork-explorer/experiment/fc7.pk','rb'))"
   ]
  },
  {
   "cell_type": "code",
   "execution_count": null,
   "metadata": {
    "collapsed": false
   },
   "outputs": [],
   "source": [
    "fc7['features']"
   ]
  },
  {
   "cell_type": "code",
   "execution_count": null,
   "metadata": {
    "collapsed": false
   },
   "outputs": [],
   "source": [
    "transformed_image = transform_image(image, False, [104,117,123], 256, 224)"
   ]
  }
 ],
 "metadata": {
  "kernelspec": {
   "display_name": "Python 2",
   "language": "python",
   "name": "python2"
  },
  "language_info": {
   "codemirror_mode": {
    "name": "ipython",
    "version": 2
   },
   "file_extension": ".py",
   "mimetype": "text/x-python",
   "name": "python",
   "nbconvert_exporter": "python",
   "pygments_lexer": "ipython2",
   "version": "2.7.11"
  }
 },
 "nbformat": 4,
 "nbformat_minor": 0
}
