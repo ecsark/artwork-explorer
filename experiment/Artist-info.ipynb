{
 "cells": [
  {
   "cell_type": "code",
   "execution_count": 1,
   "metadata": {
    "collapsed": true
   },
   "outputs": [],
   "source": [
    "def all_files(list_file):\n",
    "    file_names = []\n",
    "    with open(list_file, 'rb') as f:\n",
    "        for line in f:\n",
    "            file_names.append(line.split()[0])\n",
    "    return file_names"
   ]
  },
  {
   "cell_type": "code",
   "execution_count": 55,
   "metadata": {
    "collapsed": true
   },
   "outputs": [],
   "source": [
    "from heapq import nlargest\n",
    "from collections import Counter"
   ]
  },
  {
   "cell_type": "code",
   "execution_count": 2,
   "metadata": {
    "collapsed": true
   },
   "outputs": [],
   "source": [
    "train_files = all_files('/Users/ecsark/Documents/visualdb/project/wikiart/train.txt')\n",
    "test_files = all_files('/Users/ecsark/Documents/visualdb/project/wikiart/test.txt')"
   ]
  },
  {
   "cell_type": "code",
   "execution_count": 3,
   "metadata": {
    "collapsed": false
   },
   "outputs": [],
   "source": [
    "a = train_files[0]"
   ]
  },
  {
   "cell_type": "code",
   "execution_count": 4,
   "metadata": {
    "collapsed": true
   },
   "outputs": [],
   "source": [
    "def all_artist_years(file_names):\n",
    "    artists = list()\n",
    "    years = list()\n",
    "    for f in file_names:\n",
    "        a = f.split('.')[0].split('/')[-1].split('_')\n",
    "        artists.append(a[0])\n",
    "        b = a[-1].split('-')\n",
    "        year = None\n",
    "        if len(b) > 1 and b[-1].isdigit():\n",
    "            for n in reversed(b):\n",
    "                if n.isdigit():\n",
    "                    if len(n)==4:\n",
    "                        year = int(n)\n",
    "                        break\n",
    "                else:\n",
    "                    break\n",
    "        \n",
    "        years.append(year)\n",
    "            \n",
    "    return artists, years"
   ]
  },
  {
   "cell_type": "code",
   "execution_count": 5,
   "metadata": {
    "collapsed": false
   },
   "outputs": [],
   "source": [
    "test_artists, test_years = all_artist_years(test_files)\n",
    "train_artists, train_years = all_artist_years(train_files)"
   ]
  },
  {
   "cell_type": "code",
   "execution_count": 24,
   "metadata": {
    "collapsed": false
   },
   "outputs": [
    {
     "name": "stdout",
     "output_type": "stream",
     "text": [
      "8000 4435\n",
      "2000 1095\n"
     ]
    }
   ],
   "source": [
    "print len(train_artists),  sum([1 if year is not None else 0 for year in train_years])\n",
    "print len(test_artists),  sum([1 if year is not None else 0 for year in test_years])"
   ]
  },
  {
   "cell_type": "code",
   "execution_count": 52,
   "metadata": {
    "collapsed": false
   },
   "outputs": [
    {
     "name": "stdout",
     "output_type": "stream",
     "text": [
      "684\n",
      "460\n"
     ]
    }
   ],
   "source": [
    "print len(set(train_artists))\n",
    "print len(set(test_artists))"
   ]
  },
  {
   "cell_type": "code",
   "execution_count": 6,
   "metadata": {
    "collapsed": false
   },
   "outputs": [],
   "source": [
    "import caffe\n",
    "import lmdb\n",
    "import os\n",
    "import caffe.proto.caffe_pb2\n",
    "from caffe.io import datum_to_array\n",
    "import matplotlib.pyplot as plt\n",
    "%matplotlib inline\n",
    "import numpy as np\n",
    "from scipy.spatial import distance"
   ]
  },
  {
   "cell_type": "code",
   "execution_count": 7,
   "metadata": {
    "collapsed": false
   },
   "outputs": [],
   "source": [
    "def read_from_db(db_dir):\n",
    "    lmdb_env = lmdb.open(db_dir)\n",
    "    lmdb_txn = lmdb_env.begin()\n",
    "    lmdb_cursor = lmdb_txn.cursor()\n",
    "    datum = caffe.proto.caffe_pb2.Datum()\n",
    "\n",
    "    D = []\n",
    "\n",
    "    for idx, (key, value) in enumerate(lmdb_cursor):\n",
    "        datum.ParseFromString(value)\n",
    "        data = caffe.io.datum_to_array(datum)\n",
    "        D.append(data.flatten())\n",
    "\n",
    "    lmdb_env.close()\n",
    "    return D"
   ]
  },
  {
   "cell_type": "code",
   "execution_count": 9,
   "metadata": {
    "collapsed": true
   },
   "outputs": [],
   "source": [
    "X_train = read_from_db('/Users/ecsark/Documents/visualdb/project/wikiart/train_vgg_feature_fc7')"
   ]
  },
  {
   "cell_type": "code",
   "execution_count": 89,
   "metadata": {
    "collapsed": true
   },
   "outputs": [],
   "source": [
    "X_array = np.array(X_train)"
   ]
  },
  {
   "cell_type": "code",
   "execution_count": null,
   "metadata": {
    "collapsed": true
   },
   "outputs": [],
   "source": [
    "X_array.sum(axis=)"
   ]
  },
  {
   "cell_type": "code",
   "execution_count": 11,
   "metadata": {
    "collapsed": false
   },
   "outputs": [
    {
     "data": {
      "text/plain": [
       "SVC(C=1.0, cache_size=200, class_weight=None, coef0=0.0,\n",
       "  decision_function_shape=None, degree=3, gamma='auto', kernel='rbf',\n",
       "  max_iter=-1, probability=False, random_state=None, shrinking=True,\n",
       "  tol=0.001, verbose=False)"
      ]
     },
     "execution_count": 11,
     "metadata": {},
     "output_type": "execute_result"
    }
   ],
   "source": [
    "from sklearn import svm\n",
    "clf = svm.SVC()\n",
    "clf.fit(X_train, train_artists)"
   ]
  },
  {
   "cell_type": "code",
   "execution_count": 12,
   "metadata": {
    "collapsed": false
   },
   "outputs": [
    {
     "name": "stdout",
     "output_type": "stream",
     "text": [
      "0.255943348508\n"
     ]
    }
   ],
   "source": [
    "trained_artists = set(train_artists)\n",
    "X_q_test = list()\n",
    "y_q_test = list()\n",
    "for y, X in zip(test_artists, X_test):\n",
    "    if y in trained_artists:\n",
    "        X_q_test.append(X)\n",
    "        y_q_test.append(y)\n",
    "        \n",
    "y_pred = clf.predict(X_q_test)\n",
    "error = sum([1 if p!=g else 0 for (p, g) in zip(y_pred, y_q_test)])\n",
    "print 1.0 - 1.0*error/len(y_q_test)"
   ]
  },
  {
   "cell_type": "code",
   "execution_count": 45,
   "metadata": {
    "collapsed": true
   },
   "outputs": [],
   "source": [
    "import cPickle as pk\n",
    "clf = pk.load(open('/Users/ecsark/Documents/visualdb/project/artwork-explorer/model/vgg_artists.pk', 'rb'))"
   ]
  },
  {
   "cell_type": "code",
   "execution_count": 47,
   "metadata": {
    "collapsed": true
   },
   "outputs": [],
   "source": [
    "import math\n",
    "def convert_to_votes(decision):\n",
    "    return (np.array(decision)>0).sum(axis=1).tolist()\n",
    "\n",
    "class PretrainedSVC:\n",
    "    def __init__(self, model):\n",
    "        self.svc = model\n",
    "\n",
    "    def predict(self, image_features):\n",
    "        return self.svc.predict(image_features)\n",
    "\n",
    "    def get_decision(self, fts):\n",
    "        decisions = self.svc.decision_function(fts)\n",
    "        n_classes = int((1+math.sqrt(1+8*len(decisions[0]))) / 2)\n",
    "        scores = []\n",
    "        idx = 0\n",
    "        for i in range(n_classes):\n",
    "            i_score = []\n",
    "            for j in range(i):\n",
    "                i_score.append(-scores[j][i])\n",
    "            i_score.append(0)\n",
    "            for k in range(n_classes - i - 1):\n",
    "                i_score.append(decisions[0][idx])\n",
    "                idx += 1\n",
    "            scores.append(i_score)\n",
    "        return scores"
   ]
  },
  {
   "cell_type": "code",
   "execution_count": 48,
   "metadata": {
    "collapsed": true
   },
   "outputs": [],
   "source": [
    "svc = PretrainedSVC(clf)"
   ]
  },
  {
   "cell_type": "code",
   "execution_count": 86,
   "metadata": {
    "collapsed": false
   },
   "outputs": [],
   "source": [
    "def firstKClosure(firstK_list):\n",
    "    firstK_list = sorted(firstK_list)\n",
    "    hits = [0] * len(firstK_list)\n",
    "    for x, y in zip(X_q_test, y_q_test):\n",
    "        votes = convert_to_votes(svc.get_decision(x.reshape(1, -1)))\n",
    "        all_possible_artists = [clf.classes_[i] for i in np.argsort(votes)[::-1][:firstK_list[-1]]]\n",
    "        for i, firstK in enumerate(firstK_list):\n",
    "            if y in all_possible_artists[:firstK]:\n",
    "                hits[i] += 1\n",
    "    return hits"
   ]
  },
  {
   "cell_type": "code",
   "execution_count": 87,
   "metadata": {
    "collapsed": false
   },
   "outputs": [
    {
     "data": {
      "text/plain": [
       "[505, 635, 793, 942, 1090]"
      ]
     },
     "execution_count": 87,
     "metadata": {},
     "output_type": "execute_result"
    }
   ],
   "source": [
    "firstKClosure([1,2,4,8,16])"
   ]
  },
  {
   "cell_type": "code",
   "execution_count": 88,
   "metadata": {
    "collapsed": false
   },
   "outputs": [
    {
     "data": {
      "text/plain": [
       "1977"
      ]
     },
     "execution_count": 88,
     "metadata": {},
     "output_type": "execute_result"
    }
   ],
   "source": [
    "len(X_q_test)"
   ]
  },
  {
   "cell_type": "code",
   "execution_count": 15,
   "metadata": {
    "collapsed": false
   },
   "outputs": [],
   "source": [
    "c = Counter()\n",
    "for a in test_artists:\n",
    "    if a in trained_artists:\n",
    "        c[a] += 1"
   ]
  },
  {
   "cell_type": "code",
   "execution_count": 18,
   "metadata": {
    "collapsed": false
   },
   "outputs": [
    {
     "data": {
      "text/plain": [
       "[('giovanni-battista-piranesi', 91),\n",
       " ('nicholas-roerich', 70),\n",
       " ('vincent-van-gogh', 47),\n",
       " ('salvador-dali', 40),\n",
       " ('pablo-picasso', 34),\n",
       " ('gustave-dore', 28),\n",
       " ('rembrandt', 27),\n",
       " ('peter-paul-rubens', 26),\n",
       " ('raphael-kirchner', 25),\n",
       " ('claude-monet', 24),\n",
       " ('pierre-auguste-renoir', 18),\n",
       " ('odilon-redon', 18),\n",
       " ('paul-cezanne', 17),\n",
       " ('boris-kustodiev', 16),\n",
       " ('john-singer-sargent', 15),\n",
       " ('jean-auguste-dominique-ingres', 15),\n",
       " ('martiros-saryan', 15),\n",
       " ('max-ernst', 15),\n",
       " ('amedeo-modigliani', 14),\n",
       " ('ernst-ludwig-kirchner', 14),\n",
       " ('zdislav-beksinski', 14),\n",
       " ('egon-schiele', 13),\n",
       " ('ilya-repin', 13),\n",
       " ('jacek-yerka', 13),\n",
       " ('zinaida-serebriakova', 13),\n",
       " ('pyotr-konchalovsky', 13),\n",
       " ('rene-magritte', 13),\n",
       " ('henri-matisse', 13),\n",
       " ('james-tissot', 13),\n",
       " ('henri-de-toulouse-lautrec', 12),\n",
       " ('marc-chagall', 12),\n",
       " ('william-adolphe-bouguereau', 12),\n",
       " ('maurice-prendergast', 11),\n",
       " ('john-william-godward', 11),\n",
       " ('edouard-cortes', 11),\n",
       " ('camille-corot', 11),\n",
       " ('ivan-aivazovsky', 11),\n",
       " ('mikhail-vrubel', 11),\n",
       " ('aubrey-beardsley', 11),\n",
       " ('mary-cassatt', 11),\n",
       " ('anthony-van-dyck', 10),\n",
       " ('gustave-loiseau', 10),\n",
       " ('eugene-boudin', 10),\n",
       " ('koloman-moser', 10),\n",
       " ('isaac-levitan', 9),\n",
       " ('joaqu-n-sorolla', 9),\n",
       " ('gustav-klimt', 9),\n",
       " ('diego-velazquez', 9),\n",
       " ('john-singleton-copley', 9),\n",
       " ('lucian-freud', 9),\n",
       " ('frans-hals', 9),\n",
       " ('joan-miro', 9),\n",
       " ('konstantin-korovin', 9),\n",
       " ('andre-derain', 9),\n",
       " ('guido-reni', 8),\n",
       " ('konstantin-somov', 8),\n",
       " ('viktor-vasnetsov', 8),\n",
       " ('camille-pissarro', 8),\n",
       " ('ivan-shishkin', 8),\n",
       " ('felix-vallotton', 8),\n",
       " ('childe-hassam', 8),\n",
       " ('gustave-moreau', 8),\n",
       " ('francisco-de-zurbaran', 8),\n",
       " ('kuzma-petrov-vodkin', 8),\n",
       " ('eugene-delacroix', 8),\n",
       " ('mstislav-dobuzhinsky', 7),\n",
       " ('konstantin-makovsky', 7),\n",
       " ('orest-kiprensky', 7),\n",
       " ('pierre-paul-prud-hon', 7),\n",
       " ('wilhelm-kotarbinski', 7),\n",
       " ('aleksey-savrasov', 7),\n",
       " ('mikalojus-ciurlionis', 7),\n",
       " ('edgar-degas', 7),\n",
       " ('alexandre-benois', 7),\n",
       " ('alfred-sisley', 7),\n",
       " ('balthus', 7),\n",
       " ('bartolome-esteban-murillo', 7),\n",
       " ('francisco-goya', 7),\n",
       " ('angelica-kauffman', 7),\n",
       " ('edward-burne-jones', 7),\n",
       " ('vasily-surikov', 7),\n",
       " ('alphonse-mucha', 7),\n",
       " ('dante-gabriel-rossetti', 7),\n",
       " ('david-teniers-the-younger', 7),\n",
       " ('pierre-bonnard', 7),\n",
       " ('jacques-louis-david', 7),\n",
       " ('abraham-van-strij', 6),\n",
       " ('john-atkinson-grimshaw', 6),\n",
       " ('karl-bodmer', 6),\n",
       " ('edvard-munch', 6),\n",
       " ('ivan-bilibin', 6),\n",
       " ('vladimir-makovsky', 6),\n",
       " ('konstantin-bogaevsky', 6),\n",
       " ('karl-bryullov', 6),\n",
       " ('richard-gerstl', 6),\n",
       " ('jacek-malczewski', 6),\n",
       " ('paul-gauguin', 6),\n",
       " ('william-merritt-chase', 6),\n",
       " ('ilya-mashkov', 6),\n",
       " ('thomas-eakins', 6),\n",
       " ('maxime-maufra', 6),\n",
       " ('mikhail-nesterov', 6),\n",
       " ('jan-steen', 6),\n",
       " ('george-frederick-watts', 6),\n",
       " ('anna-ostroumova-lebedeva', 6),\n",
       " ('fyodor-alekseyev', 6),\n",
       " ('henri-fantin-latour', 5),\n",
       " ('berthe-morisot', 5),\n",
       " ('lovis-corinth', 5),\n",
       " ('adriaen-van-de-velde', 5),\n",
       " ('william-blake', 5),\n",
       " ('paul-klee', 5),\n",
       " ('caspar-david-friedrich', 5),\n",
       " ('jan-matejko', 5),\n",
       " ('david-burliuk', 5),\n",
       " ('leon-bakst', 5),\n",
       " ('william-turner', 5),\n",
       " ('willard-metcalf', 5),\n",
       " ('ferdinand-hodler', 5),\n",
       " ('edouard-manet', 5),\n",
       " ('carl-larsson', 5),\n",
       " ('carlos-saenz-de-tejada', 5),\n",
       " ('franz-stuck', 5),\n",
       " ('ramon-oviedo', 5),\n",
       " ('gabriel-metsu', 5),\n",
       " ('theodore-rousseau', 5),\n",
       " ('arkhip-kuindzhi', 4),\n",
       " ('caravaggio', 4),\n",
       " ('efim-volkov', 4),\n",
       " ('francesco-guardi', 4),\n",
       " ('sergey-solomko', 4),\n",
       " ('james-ensor', 4),\n",
       " ('dorothy-lathrop', 4),\n",
       " ('pierre-puvis-de-chavannes', 4),\n",
       " ('sabin-balasa', 4),\n",
       " ('vasily-polenov', 4),\n",
       " ('konstantin-vasilyev', 4),\n",
       " ('george-bouzianis', 4),\n",
       " ('theodore-gericault', 4),\n",
       " ('jules-cheret', 4),\n",
       " ('jules-perahim', 4),\n",
       " ('albert-bloch', 4),\n",
       " ('john-hoppner', 4),\n",
       " ('giovanni-boldini', 4),\n",
       " ('jean-arp', 4),\n",
       " ('jacob-van-strij', 4),\n",
       " ('kit-williams', 4),\n",
       " ('valentin-serov', 4),\n",
       " ('franz-marc', 4),\n",
       " ('m-c-escher', 4),\n",
       " ('esaias-van-de-velde', 4),\n",
       " ('victor-brauner', 3),\n",
       " ('maurice-utrillo', 3),\n",
       " ('andre-masson', 3),\n",
       " ('ilka-gedo', 3),\n",
       " ('john-crome', 3),\n",
       " ('gian-lorenzo-bernini', 3),\n",
       " ('vasily-tropinin', 3),\n",
       " ('robert-julian-onderdonk', 3),\n",
       " ('william-shayer', 3),\n",
       " ('felicien-rops', 3),\n",
       " ('heorhiy-narbut', 3),\n",
       " ('harry-clarke', 3),\n",
       " ('panayiotis-tetsis', 3),\n",
       " ('le-pho', 3),\n",
       " ('stefan-luchian', 3),\n",
       " ('joshua-reynolds', 3),\n",
       " ('antoine-blanchard', 3),\n",
       " ('yiannis-moralis', 3),\n",
       " ('vasily-vereshchagin', 3),\n",
       " ('chaim-soutine', 3),\n",
       " ('franz-xaver-winterhalter', 3),\n",
       " ('oskar-kokoschka', 3),\n",
       " ('marcel-duchamp', 3),\n",
       " ('spyros-papaloukas', 3),\n",
       " ('nicolae-tonitza', 3),\n",
       " ('corneliu-baba', 3),\n",
       " ('theo-van-rysselberghe', 3),\n",
       " ('taras-shevchenko', 3),\n",
       " ('cuno-amiet', 3),\n",
       " ('nicolae-darascu', 3),\n",
       " ('joseph-wright', 3),\n",
       " ('eug-ne-grasset', 3),\n",
       " ('adriaen-brouwer', 3),\n",
       " ('pierre-alechinsky', 3),\n",
       " ('pierre-narcisse-guerin', 3),\n",
       " ('richard-parkes-bonington', 3),\n",
       " ('theodor-severin-kittelsen', 3),\n",
       " ('toyen', 3),\n",
       " ('sir-lawrence-alma-tadema', 3),\n",
       " ('james-mcneill-whistler', 3),\n",
       " ('irma-stern', 3),\n",
       " ('constantin-artachino', 3),\n",
       " ('joan-ponc', 3),\n",
       " ('canaletto', 3),\n",
       " ('basuki-abdullah', 3),\n",
       " ('henry-raeburn', 3),\n",
       " ('gustave-caillebotte', 3),\n",
       " ('konstantinos-parthenis', 3),\n",
       " ('jean-francois-millet', 3),\n",
       " ('yov-kondzelevych', 2),\n",
       " ('eliseu-visconti', 2),\n",
       " ('george-stubbs', 2),\n",
       " ('anders-zorn', 2),\n",
       " ('ivan-kramskoy', 2),\n",
       " ('adam-baltatu', 2),\n",
       " ('jacoba-van-heemskerck', 2),\n",
       " ('albert-bierstadt', 2),\n",
       " ('jacob-jordaens', 2),\n",
       " ('alfred-stevens', 2),\n",
       " ('francisc-sirato', 2),\n",
       " ('francis-picabia', 2),\n",
       " ('yannoulis-chalepas', 2),\n",
       " ('bela-czobel', 2),\n",
       " ('mykola-pymonenko', 2),\n",
       " ('auguste-rodin', 2),\n",
       " ('cornelis-de-vos', 2),\n",
       " ('william-leighton-leitch', 2),\n",
       " ('ossip-zadkine', 2),\n",
       " ('kay-nielsen', 2),\n",
       " ('filipp-malyavin', 2),\n",
       " ('jose-gutierrez-solana', 2),\n",
       " ('judith-leyster', 2),\n",
       " ('suzanne-valadon', 2),\n",
       " ('edouard-vuillard', 2),\n",
       " ('arshile-gorky', 2),\n",
       " ('carlo-carra', 2),\n",
       " ('kazimir-malevich', 2),\n",
       " ('cornelis-vreedenburgh', 2),\n",
       " ('vajda-lajos', 2),\n",
       " ('asgrimur-jonsson', 2),\n",
       " ('johannes-vermeer', 2),\n",
       " ('guy-rose', 2),\n",
       " ('gherasim-luca', 2),\n",
       " ('t-c-steele', 2),\n",
       " ('augustus-john', 2),\n",
       " ('john-constable', 2),\n",
       " ('brett-whiteley', 2),\n",
       " ('arnold-b-cklin', 2),\n",
       " ('serge-sudeikin', 2),\n",
       " ('antonio-canova', 2),\n",
       " ('peder-severin-kroyer', 2),\n",
       " ('otto-dix', 2),\n",
       " ('dimitris-mytaras', 2),\n",
       " ('lev-lagorio', 2),\n",
       " ('john-henry-twachtman', 2),\n",
       " ('akseli-gallen-kallela', 2),\n",
       " ('paul-delvaux', 2),\n",
       " ('marie-laurencin', 2),\n",
       " ('ivan-rutkovych', 2),\n",
       " ('nikolai-ge', 2),\n",
       " ('kansuke-yamamoto', 2),\n",
       " ('agostino-carracci', 2),\n",
       " ('alexey-bogolyubov', 2),\n",
       " ('jan-toorop', 2),\n",
       " ('gwen-john', 2),\n",
       " ('cornelis-springer', 2),\n",
       " ('periklis-vyzantios', 2),\n",
       " ('pavel-svinyin', 2),\n",
       " ('vasily-sadovnikov', 2),\n",
       " ('edmund-dulac', 2),\n",
       " ('frederick-sommer', 2),\n",
       " ('john-william-waterhouse', 2),\n",
       " ('henri-rousseau', 2),\n",
       " ('rafael-zabaleta', 2),\n",
       " ('victor-borisov-musatov', 2),\n",
       " ('jean-paul-lemieux', 2),\n",
       " ('remedios-varo', 2),\n",
       " ('alfred-kubin', 2),\n",
       " ('frans-snyders', 2),\n",
       " ('kimon-loghi', 2),\n",
       " ('josefa-de-obidos', 2),\n",
       " ('john-everett-millais', 2),\n",
       " ('hans-bellmer', 2),\n",
       " ('vasily-perov', 2),\n",
       " ('constantine-maleas', 2),\n",
       " ('wols', 2),\n",
       " ('roberto-matta', 2),\n",
       " ('jacob-isaakszoon-van-ruisdael', 2),\n",
       " ('jan-siberechts', 2),\n",
       " ('albert-anker', 2),\n",
       " ('juan-de-valdes-leal', 2),\n",
       " ('julius-leblanc-stewart', 2),\n",
       " ('michael-sowa', 2),\n",
       " ('jean-baptiste-simeon-chardin', 2),\n",
       " ('walter-battiss', 2),\n",
       " ('grigoriy-myasoyedov', 2),\n",
       " ('margareta-sterian', 2),\n",
       " ('giacomo-quarenghi', 2),\n",
       " ('pieter-de-hooch', 2),\n",
       " ('le-nain-brothers', 2),\n",
       " ('andrei-ryabushkin', 2),\n",
       " ('adriaen-van-ostade', 2),\n",
       " ('conroy-maddox', 2),\n",
       " ('theo-van-doesburg', 2),\n",
       " ('gerrit-dou', 2),\n",
       " ('nicolae-vermont', 1),\n",
       " ('mordecai-ardon', 1),\n",
       " ('amadeo-de-souza-cardoso', 1),\n",
       " ('ivan-nikitin', 1),\n",
       " ('leon-arthur-tutundjian', 1),\n",
       " ('auguste-herbin', 1),\n",
       " ('george-catlin', 1),\n",
       " ('j-e-h-macdonald', 1),\n",
       " ('arthur-hughes', 1),\n",
       " ('piroska-szanto', 1),\n",
       " ('ad-reinhardt', 1),\n",
       " ('august-macke', 1),\n",
       " ('arthur-segal', 1),\n",
       " ('annibale-carracci', 1),\n",
       " ('emil-nolde', 1),\n",
       " ('albert-huie', 1),\n",
       " ('vasile-popescu', 1),\n",
       " ('chronis-botsoglou', 1),\n",
       " ('winston-churchill', 1),\n",
       " ('richard-oelze', 1),\n",
       " ('sorin-dumitrescu', 1),\n",
       " ('george-segal', 1),\n",
       " ('candido-portinari', 1),\n",
       " ('abraham-manievich', 1),\n",
       " ('anton-melbye', 1),\n",
       " ('constantin-piliuta', 1),\n",
       " ('n-c-wyeth', 1),\n",
       " ('vladimir-dimitrov', 1),\n",
       " ('sorin-ilfoveanu', 1),\n",
       " ('william-scott', 1),\n",
       " ('winslow-homer', 1),\n",
       " ('moise-kisling', 1),\n",
       " ('jules-pascin', 1),\n",
       " ('georges-braque', 1),\n",
       " ('adolphe-joseph-thomas-monticelli', 1),\n",
       " ('aladar-korosfoi-kriesch', 1),\n",
       " ('alexander-ivanov', 1),\n",
       " ('morris-graves', 1),\n",
       " ('nikolaos-lytras', 1),\n",
       " ('kathe-kollwitz', 1),\n",
       " ('dmitry-levitzky', 1),\n",
       " ('georges-rouault', 1),\n",
       " ('christoffer-wilhelm-eckersberg', 1),\n",
       " ('henry-herbert-la-thangue', 1),\n",
       " ('bernardo-strozzi', 1),\n",
       " ('grace-cossington-smith', 1),\n",
       " ('frank-johnston', 1),\n",
       " ('nicolae-grigorescu', 1),\n",
       " ('theophrastos-triantafyllidis', 1),\n",
       " ('paul-signac', 1),\n",
       " ('volodymyr-orlovsky', 1),\n",
       " ('osias-beert', 1),\n",
       " ('pietro-da-cortona', 1),\n",
       " ('edwin-henry-landseer', 1),\n",
       " ('gr-goire-michonze', 1),\n",
       " ('alexey-venetsianov', 1),\n",
       " ('nikolaos-gyzis', 1),\n",
       " ('yiannis-tsaroychis', 1),\n",
       " ('burhan-dogancay', 1),\n",
       " ('francesco-hayez', 1),\n",
       " ('alexander-orlowski', 1),\n",
       " ('mark-rothko', 1),\n",
       " ('pierre-daura', 1),\n",
       " ('frantisek-kupka', 1),\n",
       " ('wifredo-lam', 1),\n",
       " ('ion-nicodim', 1),\n",
       " ('thomas-girtin', 1),\n",
       " ('william-holman-hunt', 1),\n",
       " ('thomas-theodor-heine', 1),\n",
       " ('fyodor-bronnikov', 1),\n",
       " ('mario-ballocco', 1),\n",
       " ('a-y-jackson', 1),\n",
       " ('vangel-naumovski', 1),\n",
       " ('charles-reiffel', 1),\n",
       " ('robert-brackman', 1),\n",
       " ('istvan-ilosvai-varga', 1),\n",
       " ('janos-tornyai', 1),\n",
       " ('alice-neel', 1),\n",
       " ('jozsef-rippl-ronai', 1),\n",
       " ('hans-richter', 1),\n",
       " ('rudolf-von-alt', 1),\n",
       " ('george-mavroides', 1),\n",
       " ('john-trumbull', 1),\n",
       " ('boris-margo', 1),\n",
       " ('max-beckmann', 1),\n",
       " ('theodoor-van-thulden', 1),\n",
       " ('frits-thaulow', 1),\n",
       " ('gheorghe-tattarescu', 1),\n",
       " ('constantin-guys', 1),\n",
       " ('lucian-grigorescu', 1),\n",
       " ('ion-tuculescu', 1),\n",
       " ('emile-claus', 1),\n",
       " ('mary-fedden', 1),\n",
       " ('karl-schrag', 1),\n",
       " ('jury-annenkov', 1),\n",
       " ('thomas-cole', 1),\n",
       " ('dado', 1),\n",
       " ('fern-coppedge', 1),\n",
       " ('jean-leon-gerome', 1),\n",
       " ('nikolay-bogdanov-belsky', 1),\n",
       " ('wassily-kandinsky', 1),\n",
       " ('ligia-macovei', 1),\n",
       " ('hendrick-terbrugghen', 1),\n",
       " ('dorothea-tanning', 1),\n",
       " ('mario-zanini', 1),\n",
       " ('frank-auerbach', 1),\n",
       " ('fyodor-vasilyev', 1),\n",
       " ('christo-coetzee', 1),\n",
       " ('sebastien-bourdon', 1),\n",
       " ('eustache-le-sueur', 1),\n",
       " ('ford-madox-brown', 1),\n",
       " ('max-pechstein', 1),\n",
       " ('boris-grigoriev', 1),\n",
       " ('gerard-terborch', 1),\n",
       " ('lajos-gulacsy', 1),\n",
       " ('raoul-dufy', 1),\n",
       " ('lynd-ward', 1),\n",
       " ('francesco-solimena', 1),\n",
       " ('jusepe-de-ribera', 1),\n",
       " ('jack-bush', 1),\n",
       " ('albin-brunovsky', 1),\n",
       " ('gustave-courbet', 1),\n",
       " ('fernand-khnopff', 1),\n",
       " ('john-roddam-spencer-stanhope', 1),\n",
       " ('ding-yanyong', 1),\n",
       " ('man-ray', 1),\n",
       " ('cornelis-norbertus-gysbrechts', 1),\n",
       " ('emily-carr', 1),\n",
       " ('henri-edmond-cross', 1),\n",
       " ('john-collier', 1),\n",
       " ('mario-sironi', 1),\n",
       " ('maurice-de-vlaminck', 1),\n",
       " ('adriaen-van-de-venne', 1),\n",
       " ('octav-bancila', 1),\n",
       " ('jacques-h-rold', 1),\n",
       " ('jackson-pollock', 1),\n",
       " ('michel-simonidy', 1),\n",
       " ('paula-modersohn-becker', 1),\n",
       " ('albert-marquet', 1),\n",
       " ('aleksey-antropov', 1),\n",
       " ('natalia-goncharova', 1),\n",
       " ('frederic-remington', 1)]"
      ]
     },
     "execution_count": 18,
     "metadata": {},
     "output_type": "execute_result"
    }
   ],
   "source": [
    "import operator\n",
    "sorted_x = sorted(c.items(), key=operator.itemgetter(1), reverse=True)\n",
    "sorted_x"
   ]
  },
  {
   "cell_type": "code",
   "execution_count": 19,
   "metadata": {
    "collapsed": false
   },
   "outputs": [
    {
     "name": "stdout",
     "output_type": "stream",
     "text": [
      "1977\n"
     ]
    }
   ],
   "source": [
    "print len(y_q_test)"
   ]
  },
  {
   "cell_type": "code",
   "execution_count": 27,
   "metadata": {
    "collapsed": true
   },
   "outputs": [],
   "source": [
    "def usable_samples(all_samples, all_years):\n",
    "    X_year = list()\n",
    "    y_year = list()\n",
    "    for year, sample in zip(all_years, all_samples):\n",
    "        if year is not None:\n",
    "            X_year.append(sample)\n",
    "            y_year.append(year)\n",
    "            \n",
    "    return X_year, y_year"
   ]
  },
  {
   "cell_type": "code",
   "execution_count": 31,
   "metadata": {
    "collapsed": false
   },
   "outputs": [],
   "source": [
    "X_year_train, y_year_train = usable_samples(X_train, train_years)\n",
    "X_year_test, y_year_test = usable_samples(X_test, test_years)"
   ]
  },
  {
   "cell_type": "code",
   "execution_count": 92,
   "metadata": {
    "collapsed": true
   },
   "outputs": [],
   "source": [
    "from sklearn import preprocessing\n",
    "scaler = preprocessing.StandardScaler().fit(X_year_train)\n",
    "X_year_train_preprocessed = scaler.transform(X_year_train)"
   ]
  },
  {
   "cell_type": "code",
   "execution_count": 99,
   "metadata": {
    "collapsed": false
   },
   "outputs": [
    {
     "name": "stdout",
     "output_type": "stream",
     "text": [
      "[ 0.74294868  0.43191928  0.11038191 ...,  0.36665617  0.76342427\n",
      "  0.17037321]\n",
      "[ 1.06884473  0.89655399  0.41512243 ...,  0.86527589  1.19547635\n",
      "  0.50919198]\n"
     ]
    }
   ],
   "source": [
    "print scaler.mean_\n",
    "print scaler.scale_"
   ]
  },
  {
   "cell_type": "code",
   "execution_count": 93,
   "metadata": {
    "collapsed": false
   },
   "outputs": [],
   "source": [
    "reg = svm.SVR()\n",
    "reg = reg.fit(X_year_train_preprocessed, y_year_train)"
   ]
  },
  {
   "cell_type": "code",
   "execution_count": 43,
   "metadata": {
    "collapsed": true
   },
   "outputs": [],
   "source": [
    "import cPickle as pk\n",
    "pk.dump(reg, open('/Users/ecsark/Documents/visualdb/project/artwork-explorer/model/vgg_year.pk', 'wb'), protocol=-1)"
   ]
  },
  {
   "cell_type": "code",
   "execution_count": 34,
   "metadata": {
    "collapsed": false
   },
   "outputs": [
    {
     "name": "stdout",
     "output_type": "stream",
     "text": [
      "45.3143621632\n"
     ]
    }
   ],
   "source": [
    "y_pred = reg.predict(X_year_test)\n",
    "error = [(actual-truth) for actual, truth in zip(y_pred, y_year_test)]\n",
    "print 1.0 * error/len(y_year_test)"
   ]
  },
  {
   "cell_type": "code",
   "execution_count": 37,
   "metadata": {
    "collapsed": true
   },
   "outputs": [],
   "source": [
    "import matplotlib.pyplot as plt\n",
    "%matplotlib inline"
   ]
  },
  {
   "cell_type": "code",
   "execution_count": 38,
   "metadata": {
    "collapsed": false
   },
   "outputs": [
    {
     "data": {
      "text/plain": [
       "(array([  37.,  194.,  568.,  123.,   51.,   25.,    6.,   18.,   54.,   19.]),\n",
       " array([-104.48511369,  -63.50213442,  -22.51915516,   18.46382411,\n",
       "          59.44680338,  100.42978265,  141.41276192,  182.39574119,\n",
       "         223.37872046,  264.36169973,  305.344679  ]),\n",
       " <a list of 10 Patch objects>)"
      ]
     },
     "execution_count": 38,
     "metadata": {},
     "output_type": "execute_result"
    },
    {
     "data": {
      "image/png": "[encoded data removed]",
      "text/plain": [
       "<matplotlib.figure.Figure at 0x11985edd0>"
      ]
     },
     "metadata": {},
     "output_type": "display_data"
    }
   ],
   "source": [
    "diff = [(actual-truth) for actual, truth in zip(y_pred, y_year_test)]\n",
    "plt.hist(diff)"
   ]
  },
  {
   "cell_type": "code",
   "execution_count": 42,
   "metadata": {
    "collapsed": false
   },
   "outputs": [
    {
     "name": "stdout",
     "output_type": "stream",
     "text": [
      "2012 1578\n",
      "2012 1590\n"
     ]
    }
   ],
   "source": [
    "print max(y_year_train), min(y_year_train)\n",
    "print max(y_year_test), min(y_year_test)"
   ]
  }
 ],
 "metadata": {
  "kernelspec": {
   "display_name": "Python 2",
   "language": "python",
   "name": "python2"
  },
  "language_info": {
   "codemirror_mode": {
    "name": "ipython",
    "version": 2
   },
   "file_extension": ".py",
   "mimetype": "text/x-python",
   "name": "python",
   "nbconvert_exporter": "python",
   "pygments_lexer": "ipython2",
   "version": "2.7.11"
  }
 },
 "nbformat": 4,
 "nbformat_minor": 0
}
