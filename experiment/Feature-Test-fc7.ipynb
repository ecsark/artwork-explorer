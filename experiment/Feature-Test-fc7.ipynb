{
 "cells": [
  {
   "cell_type": "code",
   "execution_count": 22,
   "metadata": {
    "collapsed": true
   },
   "outputs": [],
   "source": [
    "import caffe\n",
    "import lmdb\n",
    "import os\n",
    "import caffe.proto.caffe_pb2\n",
    "from caffe.io import datum_to_array\n",
    "import matplotlib.pyplot as plt\n",
    "%matplotlib inline\n",
    "import numpy as np\n",
    "from scipy.spatial import distance"
   ]
  },
  {
   "cell_type": "code",
   "execution_count": 2,
   "metadata": {
    "collapsed": false
   },
   "outputs": [],
   "source": [
    "def read_from_db(db_dir):\n",
    "    lmdb_env = lmdb.open(db_dir)\n",
    "    lmdb_txn = lmdb_env.begin()\n",
    "    lmdb_cursor = lmdb_txn.cursor()\n",
    "    datum = caffe.proto.caffe_pb2.Datum()\n",
    "\n",
    "    D = []\n",
    "\n",
    "    for idx, (key, value) in enumerate(lmdb_cursor):\n",
    "        datum.ParseFromString(value)\n",
    "        data = caffe.io.datum_to_array(datum)\n",
    "        D.append(data.flatten())\n",
    "\n",
    "    lmdb_env.close()\n",
    "    return D"
   ]
  },
  {
   "cell_type": "code",
   "execution_count": 3,
   "metadata": {
    "collapsed": true
   },
   "outputs": [],
   "source": [
    "def read_labels(label_file):\n",
    "    D = []\n",
    "    with open(label_file,'rb') as f:\n",
    "        for line in f:\n",
    "            D.append(int(line.split(' ')[1]))\n",
    "    return D"
   ]
  },
  {
   "cell_type": "code",
   "execution_count": 4,
   "metadata": {
    "collapsed": true
   },
   "outputs": [],
   "source": [
    "X_train = read_from_db('/Users/ecsark/Documents/visualdb/project/wikiart/train_feature')\n",
    "y_train = read_labels('/Users/ecsark/Documents/visualdb/project/wikiart/train.txt')\n",
    "X_test = read_from_db('/Users/ecsark/Documents/visualdb/project/wikiart/test_feature')\n",
    "y_test = read_labels('/Users/ecsark/Documents/visualdb/project/wikiart/test.txt')"
   ]
  },
  {
   "cell_type": "code",
   "execution_count": 7,
   "metadata": {
    "collapsed": false
   },
   "outputs": [
    {
     "data": {
      "text/plain": [
       "SVC(C=1.0, cache_size=200, class_weight=None, coef0=0.0, degree=3, gamma=0.0,\n",
       "  kernel='rbf', max_iter=-1, probability=False, random_state=None,\n",
       "  shrinking=True, tol=0.001, verbose=False)"
      ]
     },
     "execution_count": 7,
     "metadata": {},
     "output_type": "execute_result"
    }
   ],
   "source": [
    "from sklearn import svm\n",
    "clf = svm.SVC()\n",
    "clf.fit(X_train, y_train)"
   ]
  },
  {
   "cell_type": "code",
   "execution_count": 9,
   "metadata": {
    "collapsed": false
   },
   "outputs": [
    {
     "name": "stdout",
     "output_type": "stream",
     "text": [
      "0.5225\n"
     ]
    }
   ],
   "source": [
    "y_pred = clf.predict(X_test)\n",
    "error = sum([1 if p!=g else 0 for (p, g) in zip(y_pred, y_test)])\n",
    "print 1.0*error/len(y_test)"
   ]
  },
  {
   "cell_type": "code",
   "execution_count": 21,
   "metadata": {
    "collapsed": false,
    "scrolled": true
   },
   "outputs": [
    {
     "name": "stdout",
     "output_type": "stream",
     "text": [
      "[0, 2, 4, 9, 4, 7, 4, 8, 6, 8, 5, 9, 0, 4, 2, 4, 3, 1, 5, 6]\n",
      "[2, 2, 7, 5, 4, 6, 4, 8, 6, 8, 5, 3, 0, 4, 0, 4, 3, 7, 5, 4]\n"
     ]
    }
   ],
   "source": [
    "print list(y_pred[:20])\n",
    "print list(y_test[:20])"
   ]
  },
  {
   "cell_type": "code",
   "execution_count": 38,
   "metadata": {
    "collapsed": false
   },
   "outputs": [],
   "source": [
    "def findMostSimilar(X, x_query, k=5):\n",
    "    dist = distance.cdist(X, np.array([x_query]), 'euclidean')\n",
    "    return dist.flatten().argsort()[:k]"
   ]
  },
  {
   "cell_type": "code",
   "execution_count": 51,
   "metadata": {
    "collapsed": false
   },
   "outputs": [
    {
     "name": "stdout",
     "output_type": "stream",
     "text": [
      "[6502 2315 3300 4147 1808 5194 3021 7146 5874 3725]\n",
      "[4, 4, 4, 7, 4, 7, 7, 4, 0, 1]\n"
     ]
    }
   ],
   "source": [
    "k_min_idx = findMostSimilar(X_train, X_test[4], 10)\n",
    "print k_min_idx\n",
    "print [y_train[i] for i in k_min_idx]"
   ]
  },
  {
   "cell_type": "code",
   "execution_count": 50,
   "metadata": {
    "collapsed": false
   },
   "outputs": [
    {
     "name": "stdout",
     "output_type": "stream",
     "text": [
      "2 0 [5, 0, 2, 0, 0, 0, 2, 8, 8, 5]\n",
      "2 5 [2, 0, 5, 8, 5, 5, 5, 5, 2, 2]\n",
      "7 7 [9, 6, 1, 1, 7, 3, 4, 7, 4, 7]\n",
      "5 5 [8, 3, 2, 5, 5, 5, 5, 6, 7, 5]\n",
      "4 4 [4, 4, 4, 7, 4, 7, 7, 4, 0, 1]\n",
      "6 1 [1, 1, 4, 6, 2, 1, 6, 1, 4, 1]\n",
      "4 4 [4, 4, 4, 4, 4, 4, 4, 4, 4, 4]\n",
      "8 2 [4, 2, 2, 7, 8, 0, 5, 2, 2, 9]\n",
      "6 6 [6, 5, 6, 2, 3, 6, 6, 6, 6, 6]\n",
      "8 1 [9, 5, 1, 2, 1, 5, 6, 0, 2, 3]\n",
      "5 3 [3, 3, 3, 5, 3, 3, 3, 5, 3, 2]\n",
      "3 3 [0, 9, 3, 9, 3, 3, 7, 3, 5, 3]\n",
      "0 0 [3, 9, 0, 9, 2, 1, 0, 2, 0, 0]\n",
      "4 7 [0, 7, 4, 7, 0, 5, 7, 7, 9, 4]\n",
      "0 1 [2, 7, 5, 1, 4, 0, 1, 1, 9, 2]\n",
      "4 4 [4, 4, 9, 7, 7, 6, 7, 4, 9, 4]\n",
      "3 3 [3, 6, 3, 3, 3, 5, 3, 3, 3, 6]\n",
      "7 3 [9, 1, 3, 7, 9, 2, 1, 1, 3, 3]\n",
      "5 5 [5, 3, 2, 5, 5, 5, 5, 5, 5, 0]\n",
      "4 7 [6, 7, 1, 7, 5, 9, 6, 9, 7, 8]\n"
     ]
    }
   ],
   "source": [
    "for i in range(20):\n",
    "    k_min_idx = findMostSimilar(X_train, X_test[i], 10)\n",
    "    labels = [y_train[j] for j in k_min_idx]\n",
    "    print y_test[i], max(set(labels), key=labels.count), labels"
   ]
  },
  {
   "cell_type": "code",
   "execution_count": 46,
   "metadata": {
    "collapsed": false
   },
   "outputs": [
    {
     "name": "stdout",
     "output_type": "stream",
     "text": [
      "0.6055\n"
     ]
    }
   ],
   "source": [
    "y_pred_max = []\n",
    "\n",
    "for x in X_test[]:\n",
    "    k_min_idx = findMostSimilar(X_train, x, 10)\n",
    "    labels = [y_train[i] for i in k_min_idx]\n",
    "    y_pred_max.append(max(set(labels), key=labels.count))\n",
    "\n",
    "error_max = sum([1 if p!=g else 0 for (p, g) in zip(y_pred_max, y_test)])\n",
    "print 1.0*error_max/len(y_pred_max)"
   ]
  }
 ],
 "metadata": {
  "kernelspec": {
   "display_name": "Python 2",
   "language": "python",
   "name": "python2"
  },
  "language_info": {
   "codemirror_mode": {
    "name": "ipython",
    "version": 2
   },
   "file_extension": ".py",
   "mimetype": "text/x-python",
   "name": "python",
   "nbconvert_exporter": "python",
   "pygments_lexer": "ipython2",
   "version": "2.7.11"
  }
 },
 "nbformat": 4,
 "nbformat_minor": 0
}
