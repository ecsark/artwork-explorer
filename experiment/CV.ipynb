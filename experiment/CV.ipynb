{
 "cells": [
  {
   "cell_type": "code",
   "execution_count": 46,
   "metadata": {
    "collapsed": true
   },
   "outputs": [],
   "source": [
    "import cv2\n",
    "import numpy as np\n",
    "from scipy.spatial import distance\n",
    "import cPickle as pickle\n",
    "from skimage.feature import local_binary_pattern\n",
    "from scipy.stats import itemfreq\n",
    "from sklearn.preprocessing import normalize"
   ]
  },
  {
   "cell_type": "code",
   "execution_count": 4,
   "metadata": {
    "collapsed": true
   },
   "outputs": [],
   "source": [
    "def deskew(img):\n",
    "    m = cv2.moments(img)\n",
    "    if abs(m['mu02']) < 1e-2:\n",
    "        return img.copy()\n",
    "    skew = m['mu11']/m['mu02']\n",
    "    M = np.float32([[1, skew, -0.5*SZ*skew], [0, 1, 0]])\n",
    "    img = cv2.warpAffine(img,M,(SZ, SZ),flags=affine_flags)\n",
    "    return img\n",
    "\n",
    "bin_n = 16\n",
    "\n",
    "def hog(img):\n",
    "    gx = cv2.Sobel(img, cv2.CV_32F, 1, 0)\n",
    "    gy = cv2.Sobel(img, cv2.CV_32F, 0, 1)\n",
    "    mag, ang = cv2.cartToPolar(gx, gy)\n",
    "    bins = np.int32(bin_n*ang/(2*np.pi))    # quantizing binvalues in (0...16)\n",
    "    bin_cells = bins[:10,:10], bins[10:,:10], bins[:10,10:], bins[10:,10:]\n",
    "    mag_cells = mag[:10,:10], mag[10:,:10], mag[:10,10:], mag[10:,10:]\n",
    "    hists = [np.bincount(b.ravel(), m.ravel(), bin_n) for b, m in zip(bin_cells, mag_cells)]\n",
    "    hist = np.hstack(hists)     # hist is a 64 bit vector\n",
    "    return hist"
   ]
  },
  {
   "cell_type": "code",
   "execution_count": 5,
   "metadata": {
    "collapsed": true
   },
   "outputs": [],
   "source": [
    "def all_files(list_file):\n",
    "    file_names = []\n",
    "    with open(list_file, 'rb') as f:\n",
    "        for line in f:\n",
    "            file_names.append(line.split()[0])\n",
    "    return file_names"
   ]
  },
  {
   "cell_type": "code",
   "execution_count": 55,
   "metadata": {
    "collapsed": false
   },
   "outputs": [],
   "source": [
    "train_files = all_files('/Users/ecsark/Documents/visualdb/project/wikiart/train.txt')\n",
    "test_files = all_files('/Users/ecsark/Documents/visualdb/project/wikiart/test.txt')"
   ]
  },
  {
   "cell_type": "code",
   "execution_count": 11,
   "metadata": {
    "collapsed": false
   },
   "outputs": [],
   "source": [
    "hog_train = [hog(cv2.imread(img)) for img in train_files]"
   ]
  },
  {
   "cell_type": "code",
   "execution_count": 56,
   "metadata": {
    "collapsed": false
   },
   "outputs": [],
   "source": [
    "hog_test = [hog(cv2.imread(img)) for img in test_files]"
   ]
  },
  {
   "cell_type": "code",
   "execution_count": 17,
   "metadata": {
    "collapsed": true
   },
   "outputs": [],
   "source": [
    "pickle.dump(hog_train, \n",
    "            open('/Users/ecsark/Documents/visualdb/project/artwork-explorer/experiment/hog_train.pk', 'wb'), \n",
    "            protocol=-1)"
   ]
  },
  {
   "cell_type": "code",
   "execution_count": 57,
   "metadata": {
    "collapsed": true
   },
   "outputs": [],
   "source": [
    "pickle.dump(hog_test, \n",
    "            open('/Users/ecsark/Documents/visualdb/project/artwork-explorer/experiment/hog_test.pk', 'wb'), \n",
    "            protocol=-1)"
   ]
  },
  {
   "cell_type": "code",
   "execution_count": 8,
   "metadata": {
    "collapsed": true
   },
   "outputs": [],
   "source": [
    "def findMostSimilar(X, x_query, k=5):\n",
    "    dist = distance.cdist(X, np.array([x_query]), 'euclidean')\n",
    "    return dist.flatten().argsort()[:k]"
   ]
  },
  {
   "cell_type": "code",
   "execution_count": 19,
   "metadata": {
    "collapsed": false
   },
   "outputs": [
    {
     "data": {
      "text/plain": [
       "['/Users/ecsark/Documents/visualdb/project/wikiart/images/theodore-rousseau_last-houses-of-port-en-bessin-calvados.jpg',\n",
       " '/Users/ecsark/Documents/visualdb/project/wikiart/images/salvador-dali_nude-on-the-plain-of-rosas.jpg',\n",
       " '/Users/ecsark/Documents/visualdb/project/wikiart/images/raphael-kirchner_boys-and-girls-at-sea-8.jpg',\n",
       " '/Users/ecsark/Documents/visualdb/project/wikiart/images/akseli-gallen-kallela_old-woman-with-a-cat-1885.jpg',\n",
       " '/Users/ecsark/Documents/visualdb/project/wikiart/images/octavio-ocampo_absents-of-the-mermaid.jpg',\n",
       " '/Users/ecsark/Documents/visualdb/project/wikiart/images/anna-ostroumova-lebedeva_leningrad-view-from-trinity-bridge-1926.jpg',\n",
       " '/Users/ecsark/Documents/visualdb/project/wikiart/images/jacek-yerka_road.jpg',\n",
       " '/Users/ecsark/Documents/visualdb/project/wikiart/images/childe-hassam_cotysville.jpg',\n",
       " '/Users/ecsark/Documents/visualdb/project/wikiart/images/volodymyr-orlovsky_summer-landscape-with-road.jpg',\n",
       " '/Users/ecsark/Documents/visualdb/project/wikiart/images/john-marin_sunset-1922.jpg']"
      ]
     },
     "execution_count": 19,
     "metadata": {},
     "output_type": "execute_result"
    }
   ],
   "source": [
    "[train_files[i] for i in findMostSimilar(all_features, hog(cv2.imread(train_files[7])), 10)]"
   ]
  },
  {
   "cell_type": "code",
   "execution_count": 33,
   "metadata": {
    "collapsed": false
   },
   "outputs": [],
   "source": [
    "img = cv2.imread(train_files[8], cv2.CV_LOAD_IMAGE_GRAYSCALE)"
   ]
  },
  {
   "cell_type": "code",
   "execution_count": 34,
   "metadata": {
    "collapsed": false
   },
   "outputs": [],
   "source": [
    "h, w = img.shape[:2]\n",
    "vis0 = np.zeros((h,w), np.float32)\n",
    "vis0[:h, :w] = img\n",
    "vis1 = cv2.dct(vis0)"
   ]
  },
  {
   "cell_type": "code",
   "execution_count": 35,
   "metadata": {
    "collapsed": false
   },
   "outputs": [
    {
     "data": {
      "text/plain": [
       "array([[  1.26877758e+05,  -1.52201289e+04,   1.57428496e+04, ...,\n",
       "          1.15846767e+01,  -4.10671377e+00,   3.18151116e+00],\n",
       "       [ -9.53188184e+03,   1.38818555e+03,   6.98631396e+03, ...,\n",
       "          1.03888807e+01,  -2.90842462e+00,  -1.67760658e+00],\n",
       "       [ -9.18642480e+03,  -4.24782166e+02,   2.01197412e+03, ...,\n",
       "          6.16781139e+00,  -4.81275940e+00,   3.98108172e+00],\n",
       "       ..., \n",
       "       [  4.33764458e+00,  -1.10785561e+01,  -2.39274406e+00, ...,\n",
       "          8.52350175e-01,  -9.14332032e-01,  -7.45342195e-01],\n",
       "       [  7.33253288e+00,   8.94276047e+00,  -2.12687016e-01, ...,\n",
       "         -3.96727212e-03,  -2.04966404e-02,  -7.63854757e-02],\n",
       "       [ -6.65722847e-01,  -1.99235177e+00,   1.50952530e+00, ...,\n",
       "         -1.01951337e+00,   1.14290619e+00,   1.29224643e-01]], dtype=float32)"
      ]
     },
     "execution_count": 35,
     "metadata": {},
     "output_type": "execute_result"
    }
   ],
   "source": [
    "vis1"
   ]
  },
  {
   "cell_type": "code",
   "execution_count": 43,
   "metadata": {
    "collapsed": true
   },
   "outputs": [],
   "source": [
    "extractor = cv2.DescriptorExtractor_create(\"OpponentSURF\")"
   ]
  },
  {
   "cell_type": "code",
   "execution_count": 39,
   "metadata": {
    "collapsed": true
   },
   "outputs": [],
   "source": [
    "img = cv2.imread(train_files[7])\n",
    "gray= cv2.cvtColor(img,cv2.COLOR_BGR2GRAY)\n",
    "\n",
    "sift = cv2.SIFT()\n",
    "kp1, des1 = sift.detectAndCompute(img,None)"
   ]
  },
  {
   "cell_type": "code",
   "execution_count": 42,
   "metadata": {
    "collapsed": false
   },
   "outputs": [
    {
     "data": {
      "text/plain": [
       "(2779, 128)"
      ]
     },
     "execution_count": 42,
     "metadata": {},
     "output_type": "execute_result"
    }
   ],
   "source": [
    "des1.shape"
   ]
  },
  {
   "cell_type": "code",
   "execution_count": 50,
   "metadata": {
    "collapsed": true
   },
   "outputs": [],
   "source": [
    "radius = 3\n",
    "no_points = 8 * radius\n",
    "\n",
    "def extract_lbp(fn):\n",
    "    im_gray = cv2.cvtColor(cv2.imread(fn), cv2.COLOR_BGR2GRAY)\n",
    "    lbp = local_binary_pattern(im_gray, no_points, radius, method='uniform')\n",
    "    x = itemfreq(lbp.ravel())\n",
    "    return x[:, 1]/sum(x[:, 1])"
   ]
  },
  {
   "cell_type": "code",
   "execution_count": 51,
   "metadata": {
    "collapsed": false
   },
   "outputs": [],
   "source": [
    "lbp_train = [extract_lbp(img) for img in train_files]"
   ]
  },
  {
   "cell_type": "code",
   "execution_count": 58,
   "metadata": {
    "collapsed": false
   },
   "outputs": [],
   "source": [
    "lbp_test = [extract_lbp(img) for img in test_files]"
   ]
  },
  {
   "cell_type": "code",
   "execution_count": 53,
   "metadata": {
    "collapsed": false
   },
   "outputs": [],
   "source": [
    "pickle.dump(lbp_train, \n",
    "            open('/Users/ecsark/Documents/visualdb/project/artwork-explorer/experiment/lbp_train.pk', 'wb'), \n",
    "            protocol=-1)"
   ]
  },
  {
   "cell_type": "code",
   "execution_count": 60,
   "metadata": {
    "collapsed": false
   },
   "outputs": [],
   "source": [
    "pickle.dump(lbp_test, \n",
    "            open('/Users/ecsark/Documents/visualdb/project/artwork-explorer/experiment/lbp_test.pk', 'wb'), \n",
    "            protocol=-1)"
   ]
  },
  {
   "cell_type": "code",
   "execution_count": 71,
   "metadata": {
    "collapsed": false
   },
   "outputs": [
    {
     "data": {
      "text/plain": [
       "['/Users/ecsark/Documents/visualdb/project/wikiart/images/theodore-rousseau_last-houses-of-port-en-bessin-calvados.jpg',\n",
       " '/Users/ecsark/Documents/visualdb/project/wikiart/images/nicholas-roerich_himalayas-63.jpg',\n",
       " '/Users/ecsark/Documents/visualdb/project/wikiart/images/william-adolphe-bouguereau_alone-in-the-world.jpg',\n",
       " '/Users/ecsark/Documents/visualdb/project/wikiart/images/albert-marquet_view-of-agay-1905.jpg',\n",
       " '/Users/ecsark/Documents/visualdb/project/wikiart/images/theodore-gericault_three-rumps-of-horses.jpg',\n",
       " '/Users/ecsark/Documents/visualdb/project/wikiart/images/eileen-agar_psychodelic-dream.jpg',\n",
       " '/Users/ecsark/Documents/visualdb/project/wikiart/images/zdislav-beksinski_untitled-668.jpg',\n",
       " '/Users/ecsark/Documents/visualdb/project/wikiart/images/ivan-vladimirov_flight-of-the-bourgeoisie-from-novorossiysk-in-1920.jpg',\n",
       " '/Users/ecsark/Documents/visualdb/project/wikiart/images/victor-borisov-musatov_silence-indoors-1900.jpg',\n",
       " '/Users/ecsark/Documents/visualdb/project/wikiart/images/pyotr-konchalovsky_landscape-at-siena-1912.jpg']"
      ]
     },
     "execution_count": 71,
     "metadata": {},
     "output_type": "execute_result"
    }
   ],
   "source": [
    "[train_files[i] for i in findMostSimilar(lbp_features, lbp_features[7], 10)]"
   ]
  },
  {
   "cell_type": "code",
   "execution_count": null,
   "metadata": {
    "collapsed": true
   },
   "outputs": [],
   "source": []
  }
 ],
 "metadata": {
  "kernelspec": {
   "display_name": "Python 2",
   "language": "python",
   "name": "python2"
  },
  "language_info": {
   "codemirror_mode": {
    "name": "ipython",
    "version": 2
   },
   "file_extension": ".py",
   "mimetype": "text/x-python",
   "name": "python",
   "nbconvert_exporter": "python",
   "pygments_lexer": "ipython2",
   "version": "2.7.11"
  }
 },
 "nbformat": 4,
 "nbformat_minor": 0
}
