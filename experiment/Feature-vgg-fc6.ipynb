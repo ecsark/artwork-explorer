{
 "cells": [
  {
   "cell_type": "code",
   "execution_count": 1,
   "metadata": {
    "collapsed": true
   },
   "outputs": [],
   "source": [
    "import caffe\n",
    "import lmdb\n",
    "import os\n",
    "import caffe.proto.caffe_pb2\n",
    "from caffe.io import datum_to_array\n",
    "import matplotlib.pyplot as plt\n",
    "%matplotlib inline\n",
    "import numpy as np\n",
    "from scipy.spatial import distance"
   ]
  },
  {
   "cell_type": "code",
   "execution_count": 2,
   "metadata": {
    "collapsed": false
   },
   "outputs": [],
   "source": [
    "def read_from_db(db_dir):\n",
    "    lmdb_env = lmdb.open(db_dir)\n",
    "    lmdb_txn = lmdb_env.begin()\n",
    "    lmdb_cursor = lmdb_txn.cursor()\n",
    "    datum = caffe.proto.caffe_pb2.Datum()\n",
    "\n",
    "    D = []\n",
    "\n",
    "    for idx, (key, value) in enumerate(lmdb_cursor):\n",
    "        datum.ParseFromString(value)\n",
    "        data = caffe.io.datum_to_array(datum)\n",
    "        D.append(data.flatten())\n",
    "\n",
    "    lmdb_env.close()\n",
    "    return D"
   ]
  },
  {
   "cell_type": "code",
   "execution_count": 3,
   "metadata": {
    "collapsed": true
   },
   "outputs": [],
   "source": [
    "def read_labels(label_file):\n",
    "    D = []\n",
    "    with open(label_file,'rb') as f:\n",
    "        for line in f:\n",
    "            D.append(int(line.split(' ')[1]))\n",
    "    return D"
   ]
  },
  {
   "cell_type": "code",
   "execution_count": 4,
   "metadata": {
    "collapsed": true
   },
   "outputs": [],
   "source": [
    "X_train = read_from_db('/Users/ecsark/Documents/visualdb/project/wikiart/train_vgg_feature_fc6')\n",
    "y_train = read_labels('/Users/ecsark/Documents/visualdb/project/wikiart/train.txt')\n",
    "X_test = read_from_db('/Users/ecsark/Documents/visualdb/project/wikiart/test_vgg_feature_fc6')\n",
    "y_test = read_labels('/Users/ecsark/Documents/visualdb/project/wikiart/test.txt')"
   ]
  },
  {
   "cell_type": "code",
   "execution_count": 5,
   "metadata": {
    "collapsed": false
   },
   "outputs": [],
   "source": [
    "label_names = []\n",
    "with open(\"/Users/ecsark/Documents/visualdb/project/artwork-explorer/data/label.txt\", 'rb') as f:\n",
    "    for line in f:\n",
    "        tokens = line.split(\" \")[1:]\n",
    "        label_names.append(\" \".join(tokens))"
   ]
  },
  {
   "cell_type": "code",
   "execution_count": 6,
   "metadata": {
    "collapsed": false
   },
   "outputs": [
    {
     "data": {
      "text/plain": [
       "SVC(C=1.0, cache_size=200, class_weight=None, coef0=0.0, degree=3, gamma=0.0,\n",
       "  kernel='rbf', max_iter=-1, probability=False, random_state=None,\n",
       "  shrinking=True, tol=0.001, verbose=False)"
      ]
     },
     "execution_count": 6,
     "metadata": {},
     "output_type": "execute_result"
    }
   ],
   "source": [
    "from sklearn import svm\n",
    "clf = svm.SVC()\n",
    "clf.fit(X_train, y_train)"
   ]
  },
  {
   "cell_type": "code",
   "execution_count": 7,
   "metadata": {
    "collapsed": false
   },
   "outputs": [
    {
     "name": "stdout",
     "output_type": "stream",
     "text": [
      "0.209\n"
     ]
    }
   ],
   "source": [
    "y_pred = clf.predict(X_test)\n",
    "error = sum([1 if p!=g else 0 for (p, g) in zip(y_pred, y_test)])\n",
    "print 1.0 - 1.0*error/len(y_test)"
   ]
  },
  {
   "cell_type": "code",
   "execution_count": 8,
   "metadata": {
    "collapsed": false,
    "scrolled": true
   },
   "outputs": [
    {
     "name": "stdout",
     "output_type": "stream",
     "text": [
      "[8, 8, 8, 8, 4, 8, 4, 8, 8, 8, 8, 8, 8, 8, 8, 8, 3, 8, 8, 8]\n",
      "[2, 2, 7, 5, 4, 6, 4, 8, 6, 8, 5, 3, 0, 4, 0, 4, 3, 7, 5, 4]\n"
     ]
    }
   ],
   "source": [
    "print list(y_pred[:20])\n",
    "print list(y_test[:20])"
   ]
  },
  {
   "cell_type": "code",
   "execution_count": 9,
   "metadata": {
    "collapsed": false
   },
   "outputs": [
    {
     "name": "stdout",
     "output_type": "stream",
     "text": [
      "Confusion matrix, without normalization\n",
      "[[ 20   3   8   0   0   2   0   2 157   8]\n",
      " [  1  30   7   1   2   0   4   4 150   1]\n",
      " [  4   1  20   1   0   5   3   1 156   9]\n",
      " [  3   0  10  31   2  10   9   1 127   7]\n",
      " [  3   1   4   1  41   0   2   2 146   0]\n",
      " [ 10   1  14  12   1  15   8   0 132   7]\n",
      " [  1  10   8  17   5   2  28   8 117   4]\n",
      " [  2  10   7   5   4   0  18  25 125   4]\n",
      " [  4   3   2   0   1   0   1   0 186   3]\n",
      " [  7   3   7   3   1   3   5   3 146  22]]\n",
      "Normalized confusion matrix\n",
      "[[ 0.1   0.01  0.04  0.    0.    0.01  0.    0.01  0.79  0.04]\n",
      " [ 0.01  0.15  0.04  0.01  0.01  0.    0.02  0.02  0.75  0.01]\n",
      " [ 0.02  0.01  0.1   0.01  0.    0.03  0.01  0.01  0.78  0.04]\n",
      " [ 0.01  0.    0.05  0.15  0.01  0.05  0.04  0.01  0.64  0.04]\n",
      " [ 0.01  0.01  0.02  0.01  0.2   0.    0.01  0.01  0.73  0.  ]\n",
      " [ 0.05  0.01  0.07  0.06  0.01  0.07  0.04  0.    0.66  0.04]\n",
      " [ 0.01  0.05  0.04  0.09  0.03  0.01  0.14  0.04  0.58  0.02]\n",
      " [ 0.01  0.05  0.04  0.03  0.02  0.    0.09  0.12  0.62  0.02]\n",
      " [ 0.02  0.01  0.01  0.    0.01  0.    0.01  0.    0.93  0.01]\n",
      " [ 0.04  0.01  0.04  0.01  0.01  0.01  0.03  0.01  0.73  0.11]]\n"
     ]
    },
    {
     "data": {
      "image/png": "[encoded data removed]",
      "text/plain": [
       "<matplotlib.figure.Figure at 0x115c6e650>"
      ]
     },
     "metadata": {},
     "output_type": "display_data"
    },
    {
     "data": {
      "image/png": "[encoded data removed]",
      "text/plain": [
       "<matplotlib.figure.Figure at 0x10d45ced0>"
      ]
     },
     "metadata": {},
     "output_type": "display_data"
    }
   ],
   "source": [
    "from sklearn.metrics import confusion_matrix\n",
    "def plot_confusion_matrix(cm, title='Confusion matrix', cmap=plt.cm.Blues):\n",
    "    plt.imshow(cm, interpolation='nearest', cmap=cmap)\n",
    "    plt.title(title)\n",
    "    plt.colorbar()\n",
    "    tick_marks = np.arange(len(label_names))\n",
    "    plt.xticks(tick_marks, label_names, rotation=90)\n",
    "    plt.yticks(tick_marks, label_names)\n",
    "    plt.tight_layout()\n",
    "    plt.ylabel('True label')\n",
    "    plt.xlabel('Predicted label')\n",
    "\n",
    "\n",
    "# Compute confusion matrix\n",
    "cm = confusion_matrix(y_test, y_pred)\n",
    "np.set_printoptions(precision=2)\n",
    "print('Confusion matrix, without normalization')\n",
    "print(cm)\n",
    "plt.figure()\n",
    "plot_confusion_matrix(cm)\n",
    "\n",
    "# Normalize the confusion matrix by row (i.e by the number of samples\n",
    "# in each class)\n",
    "cm_normalized = cm.astype('float') / cm.sum(axis=1)[:, np.newaxis]\n",
    "print('Normalized confusion matrix')\n",
    "print(cm_normalized)\n",
    "plt.figure()\n",
    "plot_confusion_matrix(cm_normalized, title='Normalized confusion matrix')\n",
    "\n",
    "plt.show()"
   ]
  },
  {
   "cell_type": "code",
   "execution_count": 10,
   "metadata": {
    "collapsed": false
   },
   "outputs": [],
   "source": [
    "def findMostSimilar(X, x_query, k=5):\n",
    "    dist = distance.cdist(X, np.array([x_query]), 'euclidean')\n",
    "    return dist.flatten().argsort()[:k]"
   ]
  },
  {
   "cell_type": "code",
   "execution_count": 11,
   "metadata": {
    "collapsed": false
   },
   "outputs": [
    {
     "name": "stdout",
     "output_type": "stream",
     "text": [
      "[5474 5900 3636 7146 1290 2119 3068 3725  129 1270]\n",
      "[4, 1, 1, 4, 1, 1, 1, 1, 5, 1]\n"
     ]
    }
   ],
   "source": [
    "k_min_idx = findMostSimilar(X_train, X_test[4], 10)\n",
    "print k_min_idx\n",
    "print [y_train[i] for i in k_min_idx]"
   ]
  },
  {
   "cell_type": "code",
   "execution_count": 12,
   "metadata": {
    "collapsed": false
   },
   "outputs": [
    {
     "name": "stdout",
     "output_type": "stream",
     "text": [
      "2 1 [1, 2, 9, 6, 1, 1, 1, 7, 7, 0]\n",
      "2 2 [5, 2, 2, 2, 5, 2, 2, 6, 4, 7]\n",
      "7 1 [2, 7, 7, 6, 3, 8, 1, 6, 1, 4]\n",
      "5 6 [3, 9, 3, 3, 6, 6, 5, 6, 7, 6]\n",
      "4 1 [4, 1, 1, 4, 1, 1, 1, 1, 5, 1]\n",
      "6 1 [1, 1, 1, 1, 4, 7, 7, 6, 6, 1]\n",
      "4 4 [4, 4, 4, 4, 6, 5, 4, 4, 4, 4]\n",
      "8 2 [7, 8, 9, 4, 2, 8, 0, 2, 2, 8]\n",
      "6 0 [5, 7, 3, 1, 0, 5, 0, 9, 6, 6]\n",
      "8 1 [5, 6, 2, 9, 6, 1, 1, 2, 9, 1]\n",
      "5 3 [5, 5, 3, 3, 3, 3, 3, 3, 3, 9]\n",
      "3 5 [5, 3, 3, 5, 5, 3, 5, 2, 9, 9]\n",
      "0 1 [1, 0, 2, 1, 5, 1, 0, 1, 1, 3]\n",
      "4 4 [4, 8, 4, 0, 1, 8, 4, 9, 1, 1]\n",
      "0 2 [6, 1, 2, 5, 2, 4, 2, 9, 5, 7]\n",
      "4 4 [4, 5, 4, 2, 4, 4, 0, 2, 3, 3]\n",
      "3 5 [3, 5, 5, 9, 6, 3, 5, 2, 5, 3]\n",
      "7 1 [7, 9, 9, 2, 1, 2, 3, 1, 1, 3]\n",
      "5 5 [5, 5, 5, 5, 5, 0, 0, 2, 5, 3]\n",
      "4 9 [0, 6, 2, 9, 9, 1, 4, 1, 4, 9]\n"
     ]
    }
   ],
   "source": [
    "for i in range(20):\n",
    "    k_min_idx = findMostSimilar(X_train, X_test[i], 10)\n",
    "    labels = [y_train[j] for j in k_min_idx]\n",
    "    print y_test[i], max(set(labels), key=labels.count), labels"
   ]
  },
  {
   "cell_type": "code",
   "execution_count": 13,
   "metadata": {
    "collapsed": false
   },
   "outputs": [
    {
     "name": "stdout",
     "output_type": "stream",
     "text": [
      "0.305\n"
     ]
    }
   ],
   "source": [
    "y_pred_max = []\n",
    "\n",
    "for x in X_test:\n",
    "    k_min_idx = findMostSimilar(X_train, x, 10)\n",
    "    labels = [y_train[i] for i in k_min_idx]\n",
    "    y_pred_max.append(max(set(labels), key=labels.count))\n",
    "\n",
    "error_max = sum([1 if p!=g else 0 for (p, g) in zip(y_pred_max, y_test)])\n",
    "print 1.0 - 1.0*error_max/len(y_pred_max)"
   ]
  }
 ],
 "metadata": {
  "kernelspec": {
   "display_name": "Python 2",
   "language": "python",
   "name": "python2"
  },
  "language_info": {
   "codemirror_mode": {
    "name": "ipython",
    "version": 2
   },
   "file_extension": ".py",
   "mimetype": "text/x-python",
   "name": "python",
   "nbconvert_exporter": "python",
   "pygments_lexer": "ipython2",
   "version": "2.7.11"
  }
 },
 "nbformat": 4,
 "nbformat_minor": 0
}
