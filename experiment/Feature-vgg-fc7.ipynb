{
 "cells": [
  {
   "cell_type": "code",
   "execution_count": 1,
   "metadata": {
    "collapsed": true
   },
   "outputs": [],
   "source": [
    "import caffe\n",
    "import lmdb\n",
    "import os\n",
    "import caffe.proto.caffe_pb2\n",
    "from caffe.io import datum_to_array\n",
    "import matplotlib.pyplot as plt\n",
    "%matplotlib inline\n",
    "import numpy as np\n",
    "from scipy.spatial import distance"
   ]
  },
  {
   "cell_type": "code",
   "execution_count": 2,
   "metadata": {
    "collapsed": false
   },
   "outputs": [],
   "source": [
    "def read_from_db(db_dir):\n",
    "    lmdb_env = lmdb.open(db_dir)\n",
    "    lmdb_txn = lmdb_env.begin()\n",
    "    lmdb_cursor = lmdb_txn.cursor()\n",
    "    datum = caffe.proto.caffe_pb2.Datum()\n",
    "\n",
    "    D = []\n",
    "\n",
    "    for idx, (key, value) in enumerate(lmdb_cursor):\n",
    "        datum.ParseFromString(value)\n",
    "        data = caffe.io.datum_to_array(datum)\n",
    "        D.append(data.flatten())\n",
    "\n",
    "    lmdb_env.close()\n",
    "    return D"
   ]
  },
  {
   "cell_type": "code",
   "execution_count": 3,
   "metadata": {
    "collapsed": true
   },
   "outputs": [],
   "source": [
    "def read_labels(label_file):\n",
    "    D = []\n",
    "    with open(label_file,'rb') as f:\n",
    "        for line in f:\n",
    "            D.append(int(line.split(' ')[1]))\n",
    "    return D"
   ]
  },
  {
   "cell_type": "code",
   "execution_count": 33,
   "metadata": {
    "collapsed": true
   },
   "outputs": [],
   "source": [
    "def read_file_names(label_file):\n",
    "    D = []\n",
    "    with open(label_file,'rb') as f:\n",
    "        for line in f:\n",
    "            D.append(line.split(' ')[0])\n",
    "    return D"
   ]
  },
  {
   "cell_type": "code",
   "execution_count": 4,
   "metadata": {
    "collapsed": false
   },
   "outputs": [],
   "source": [
    "X_test = read_from_db('/Users/ecsark/Documents/visualdb/project/wikiart/test_vgg_feature_fc7')"
   ]
  },
  {
   "cell_type": "code",
   "execution_count": 5,
   "metadata": {
    "collapsed": true
   },
   "outputs": [],
   "source": [
    "y_test = read_labels('/Users/ecsark/Documents/visualdb/project/wikiart/test.txt')"
   ]
  },
  {
   "cell_type": "code",
   "execution_count": 36,
   "metadata": {
    "collapsed": false
   },
   "outputs": [],
   "source": [
    "file_test = read_file_names('/Users/ecsark/Documents/visualdb/project/wikiart/test.txt')\n",
    "file_train = read_file_names('/Users/ecsark/Documents/visualdb/project/wikiart/train.txt')"
   ]
  },
  {
   "cell_type": "code",
   "execution_count": 6,
   "metadata": {
    "collapsed": true
   },
   "outputs": [],
   "source": [
    "X_train = read_from_db('/Users/ecsark/Documents/visualdb/project/wikiart/train_vgg_feature_fc7')\n",
    "y_train = read_labels('/Users/ecsark/Documents/visualdb/project/wikiart/train.txt')"
   ]
  },
  {
   "cell_type": "code",
   "execution_count": 22,
   "metadata": {
    "collapsed": false
   },
   "outputs": [
    {
     "name": "stdout",
     "output_type": "stream",
     "text": [
      "[ 0.51584458  0.          0.         ...,  0.          0.          0.        ]\n"
     ]
    }
   ],
   "source": [
    "print X_test[2]"
   ]
  },
  {
   "cell_type": "code",
   "execution_count": 24,
   "metadata": {
    "collapsed": false
   },
   "outputs": [],
   "source": [
    "label_names = []\n",
    "with open(\"/Users/ecsark/Documents/visualdb/project/artwork-explorer/data/label.txt\", 'rb') as f:\n",
    "    for line in f:\n",
    "        tokens = line.split(\" \")[1:]\n",
    "        label_names.append(\" \".join(tokens))\n",
    "n_classes = len(label_names)"
   ]
  },
  {
   "cell_type": "code",
   "execution_count": 8,
   "metadata": {
    "collapsed": false
   },
   "outputs": [
    {
     "data": {
      "text/plain": [
       "SVC(C=1.0, cache_size=200, class_weight=None, coef0=0.0, degree=3, gamma=0.0,\n",
       "  kernel='rbf', max_iter=-1, probability=False, random_state=None,\n",
       "  shrinking=True, tol=0.001, verbose=False)"
      ]
     },
     "execution_count": 8,
     "metadata": {},
     "output_type": "execute_result"
    }
   ],
   "source": [
    "from sklearn import svm\n",
    "clf = svm.SVC()\n",
    "clf.fit(X_train, y_train)"
   ]
  },
  {
   "cell_type": "code",
   "execution_count": 11,
   "metadata": {
    "collapsed": false
   },
   "outputs": [
    {
     "name": "stdout",
     "output_type": "stream",
     "text": [
      "0.5005\n"
     ]
    }
   ],
   "source": [
    "y_pred = clf.predict(X_test)\n",
    "error = sum([1 if p!=g else 0 for (p, g) in zip(y_pred, y_test)])\n",
    "print 1.0 - 1.0*error/len(y_test)"
   ]
  },
  {
   "cell_type": "code",
   "execution_count": 8,
   "metadata": {
    "collapsed": false
   },
   "outputs": [],
   "source": [
    "import cPickle as pickle\n",
    "clf = pickle.load(open('/Users/ecsark/Documents/visualdb/project/artwork-explorer/model/svc_vgg_fc7.pk', 'rb'))"
   ]
  },
  {
   "cell_type": "code",
   "execution_count": 19,
   "metadata": {
    "collapsed": false
   },
   "outputs": [
    {
     "data": {
      "text/plain": [
       "2"
      ]
     },
     "execution_count": 19,
     "metadata": {},
     "output_type": "execute_result"
    }
   ],
   "source": [
    "clf.predict(X_test[0])[0]"
   ]
  },
  {
   "cell_type": "code",
   "execution_count": 12,
   "metadata": {
    "collapsed": false,
    "scrolled": true
   },
   "outputs": [
    {
     "name": "stdout",
     "output_type": "stream",
     "text": [
      "[2, 5, 1, 5, 4, 1, 4, 8, 5, 8, 3, 3, 0, 4, 9, 4, 3, 2, 5, 2]\n",
      "[2, 2, 7, 5, 4, 6, 4, 8, 6, 8, 5, 3, 0, 4, 0, 4, 3, 7, 5, 4]\n"
     ]
    }
   ],
   "source": [
    "print list(y_pred[:20])\n",
    "print list(y_test[:20])"
   ]
  },
  {
   "cell_type": "code",
   "execution_count": 18,
   "metadata": {
    "collapsed": false
   },
   "outputs": [
    {
     "name": "stdout",
     "output_type": "stream",
     "text": [
      "Confusion matrix, without normalization\n",
      "[[107   4  15   8  10   8  10   5  16  17]\n",
      " [  5 138   3   5   9   2  13  18   3   4]\n",
      " [ 24   4  83   7   4  24   8   3  26  17]\n",
      " [  8   5  10 105   3  24  22  10   3  10]\n",
      " [  6  23   7   6 131   0   7  10   6   4]\n",
      " [ 19   2  25  31   2  80  16   2   8  15]\n",
      " [ 11  16  10  29  11   8  80  20   9   6]\n",
      " [  9  24   9  14  18   3  30  80   6   7]\n",
      " [ 15   6  12   2   8   7   3   7 127  13]\n",
      " [ 23  17  20  10  11   6  13  12  18  70]]\n",
      "Normalized confusion matrix\n",
      "[[ 0.54  0.02  0.07  0.04  0.05  0.04  0.05  0.03  0.08  0.09]\n",
      " [ 0.03  0.69  0.01  0.03  0.04  0.01  0.07  0.09  0.01  0.02]\n",
      " [ 0.12  0.02  0.41  0.04  0.02  0.12  0.04  0.01  0.13  0.09]\n",
      " [ 0.04  0.03  0.05  0.53  0.01  0.12  0.11  0.05  0.01  0.05]\n",
      " [ 0.03  0.12  0.04  0.03  0.66  0.    0.04  0.05  0.03  0.02]\n",
      " [ 0.1   0.01  0.12  0.15  0.01  0.4   0.08  0.01  0.04  0.07]\n",
      " [ 0.06  0.08  0.05  0.14  0.06  0.04  0.4   0.1   0.04  0.03]\n",
      " [ 0.04  0.12  0.04  0.07  0.09  0.01  0.15  0.4   0.03  0.04]\n",
      " [ 0.07  0.03  0.06  0.01  0.04  0.04  0.01  0.04  0.64  0.07]\n",
      " [ 0.12  0.09  0.1   0.05  0.06  0.03  0.07  0.06  0.09  0.35]]\n"
     ]
    },
    {
     "data": {
      "image/png": "[encoded data removed]",
      "text/plain": [
       "<matplotlib.figure.Figure at 0x10d0bd6d0>"
      ]
     },
     "metadata": {},
     "output_type": "display_data"
    },
    {
     "data": {
      "image/png": "[encoded data removed]",
      "text/plain": [
       "<matplotlib.figure.Figure at 0x10d0a0650>"
      ]
     },
     "metadata": {},
     "output_type": "display_data"
    }
   ],
   "source": [
    "from sklearn.metrics import confusion_matrix\n",
    "def plot_confusion_matrix(cm, title='Confusion matrix', cmap=plt.cm.Blues):\n",
    "    plt.imshow(cm, interpolation='nearest', cmap=cmap)\n",
    "    plt.title(title)\n",
    "    plt.colorbar()\n",
    "    tick_marks = np.arange(len(label_names))\n",
    "    plt.xticks(tick_marks, label_names, rotation=90)\n",
    "    plt.yticks(tick_marks, label_names)\n",
    "    plt.tight_layout()\n",
    "    plt.ylabel('True label')\n",
    "    plt.xlabel('Predicted label')\n",
    " \n",
    "\n",
    "# Compute confusion matrix\n",
    "cm = confusion_matrix(y_test, y_pred)\n",
    "np.set_printoptions(precision=2)\n",
    "print('Confusion matrix, without normalization')\n",
    "print(cm)\n",
    "plt.figure()\n",
    "plot_confusion_matrix(cm)\n",
    "\n",
    "# Normalize the confusion matrix by row (i.e by the number of samples\n",
    "# in each class)\n",
    "cm_normalized = cm.astype('float') / cm.sum(axis=1)[:, np.newaxis]\n",
    "print('Normalized confusion matrix')\n",
    "print(cm_normalized)\n",
    "plt.figure()\n",
    "plot_confusion_matrix(cm_normalized, title='Normalized confusion matrix')\n",
    "\n",
    "plt.show()"
   ]
  },
  {
   "cell_type": "code",
   "execution_count": 29,
   "metadata": {
    "collapsed": false
   },
   "outputs": [],
   "source": [
    "def findMostSimilar(X, x_query, k=5):\n",
    "    dist = distance.cdist(X, np.array([x_query]), 'euclidean')\n",
    "    return dist.flatten().argsort()[:k]"
   ]
  },
  {
   "cell_type": "code",
   "execution_count": 9,
   "metadata": {
    "collapsed": false
   },
   "outputs": [
    {
     "name": "stdout",
     "output_type": "stream",
     "text": [
      "[7146 5474  818 7384 6578 6699 3300 2315 7498 5900]\n",
      "[4, 4, 4, 4, 4, 4, 4, 4, 4, 1]\n"
     ]
    }
   ],
   "source": [
    "k_min_idx = findMostSimilar(X_train, X_test[4], 10)\n",
    "print k_min_idx\n",
    "print [y_train[i] for i in k_min_idx]"
   ]
  },
  {
   "cell_type": "code",
   "execution_count": 10,
   "metadata": {
    "collapsed": false
   },
   "outputs": [
    {
     "name": "stdout",
     "output_type": "stream",
     "text": [
      "2 1 [7, 1, 1, 1, 1, 8, 9, 3, 8, 2]\n",
      "2 5 [5, 2, 2, 5, 5, 5, 5, 6, 5, 2]\n",
      "7 1 [4, 7, 1, 7, 4, 2, 1, 1, 5, 2]\n",
      "5 3 [3, 3, 6, 3, 3, 9, 6, 6, 1, 5]\n",
      "4 4 [4, 4, 4, 4, 4, 4, 4, 4, 4, 1]\n",
      "6 1 [1, 1, 2, 7, 7, 7, 1, 1, 1, 5]\n",
      "4 4 [4, 1, 4, 5, 4, 7, 4, 4, 4, 5]\n",
      "8 8 [7, 8, 0, 9, 4, 2, 8, 8, 5, 8]\n",
      "6 5 [3, 0, 4, 7, 5, 5, 7, 9, 7, 5]\n",
      "8 1 [9, 1, 9, 1, 6, 1, 5, 2, 1, 9]\n",
      "5 3 [3, 3, 3, 5, 5, 3, 3, 3, 3, 6]\n",
      "3 3 [3, 3, 5, 3, 0, 2, 9, 3, 6, 6]\n",
      "0 0 [0, 0, 1, 0, 5, 8, 5, 5, 0, 1]\n",
      "4 4 [4, 4, 4, 8, 8, 4, 4, 4, 0, 2]\n",
      "0 1 [8, 1, 2, 0, 9, 1, 1, 1, 0, 3]\n",
      "4 6 [5, 6, 4, 7, 0, 2, 6, 6, 1, 4]\n",
      "3 3 [5, 3, 5, 5, 3, 3, 7, 5, 3, 3]\n",
      "7 2 [7, 2, 1, 9, 7, 9, 2, 2, 3, 1]\n",
      "5 5 [5, 5, 5, 0, 3, 0, 5, 2, 5, 3]\n",
      "4 1 [6, 0, 2, 4, 1, 1, 7, 6, 9, 9]\n"
     ]
    }
   ],
   "source": [
    "for i in range(20):\n",
    "    k_min_idx = findMostSimilar(X_train, X_test[i], 10)\n",
    "    labels = [y_train[j] for j in k_min_idx]\n",
    "    print y_test[i], max(set(labels), key=labels.count), labels"
   ]
  },
  {
   "cell_type": "code",
   "execution_count": 12,
   "metadata": {
    "collapsed": false
   },
   "outputs": [
    {
     "name": "stdout",
     "output_type": "stream",
     "text": [
      "0.3675\n"
     ]
    }
   ],
   "source": [
    "y_pred_max = []\n",
    "\n",
    "for x in X_test:\n",
    "    k_min_idx = findMostSimilar(X_train, x, 10)\n",
    "    labels = [y_train[i] for i in k_min_idx]\n",
    "    y_pred_max.append(max(set(labels), key=labels.count))\n",
    "\n",
    "error_max = sum([1 if p!=g else 0 for (p, g) in zip(y_pred_max, y_test)])\n",
    "print 1.0 - 1.0*error_max/len(y_pred_max)"
   ]
  },
  {
   "cell_type": "code",
   "execution_count": 20,
   "metadata": {
    "collapsed": true
   },
   "outputs": [],
   "source": [
    "def get_decision(fts, clf):\n",
    "    decisions = clf.decision_function(fts)\n",
    "    scores = []\n",
    "    idx = 0\n",
    "    for i in range(n_classes):\n",
    "        i_score = []\n",
    "        for j in range(i):\n",
    "            i_score.append(-scores[j][i])\n",
    "        i_score.append(0)\n",
    "        for k in range(n_classes - i - 1):\n",
    "            i_score.append(decisions[0][idx])\n",
    "            idx += 1\n",
    "        scores.append(i_score)\n",
    "    return scores"
   ]
  },
  {
   "cell_type": "code",
   "execution_count": 40,
   "metadata": {
    "collapsed": false
   },
   "outputs": [],
   "source": [
    "scores_train = []\n",
    "for x in X_train:\n",
    "    scores_train.append(get_decision(x, clf))"
   ]
  },
  {
   "cell_type": "code",
   "execution_count": 38,
   "metadata": {
    "collapsed": false
   },
   "outputs": [
    {
     "name": "stdout",
     "output_type": "stream",
     "text": [
      "[ 2.29280195 -8.03743984 -0.29822775  2.31513291 -6.94292965  4.91613087\n",
      "  0.97853165 -2.33642472  1.3338013   5.77862328]\n",
      "/Users/ecsark/Documents/visualdb/project/wikiart/images/odilon-redon_nasturtiums.jpg 9\n",
      "/Users/ecsark/Documents/visualdb/project/wikiart/images/maxime-maufra_passing-through-the-bar-1898.jpg 5\n",
      "/Users/ecsark/Documents/visualdb/project/wikiart/images/salvador-dali_tolle-tolle-crucifige-eum-john-19-15-1967.jpg 9\n",
      "/Users/ecsark/Documents/visualdb/project/wikiart/images/winston-churchill_interior-at-breccles.jpg 3\n",
      "/Users/ecsark/Documents/visualdb/project/wikiart/images/nicholas-roerich_ladakh-4.jpg 9\n",
      "/Users/ecsark/Documents/visualdb/project/wikiart/images/ramon-oviedo_fantasmas-del-ca-averal.jpg 2\n",
      "/Users/ecsark/Documents/visualdb/project/wikiart/images/konstantin-somov_frontispiece-of-the-journal-world-of-art.jpg 9\n",
      "/Users/ecsark/Documents/visualdb/project/wikiart/images/nicholas-roerich_castle-of-king-gesar-1929.jpg 9\n",
      "/Users/ecsark/Documents/visualdb/project/wikiart/images/paul-gauguin_still-life-with-cherries-1886.jpg 5\n",
      "/Users/ecsark/Documents/visualdb/project/wikiart/images/odilon-redon_predistined-child.jpg 9\n"
     ]
    }
   ],
   "source": [
    "dec = np.array(get_decision(X_test[3], clf)).sum(axis=1)\n",
    "print dec\n",
    "k_sim_idx = findMostSimilar(score_train, dec, 6)\n",
    "for i in k_sim_idx:\n",
    "    print file_train[i], y_train[i]"
   ]
  },
  {
   "cell_type": "code",
   "execution_count": 79,
   "metadata": {
    "collapsed": false
   },
   "outputs": [],
   "source": [
    "score_rank_zero = [(np.array(decision)>0).sum(axis=1).tolist() for decision in scores_train]"
   ]
  },
  {
   "cell_type": "code",
   "execution_count": 83,
   "metadata": {
    "collapsed": false
   },
   "outputs": [
    {
     "name": "stdout",
     "output_type": "stream",
     "text": [
      "7 /Users/ecsark/Documents/visualdb/project/wikiart/images/gustave-dore_the-prophet-jeremiah.jpg 1723.82641066\n",
      "4 /Users/ecsark/Documents/visualdb/project/wikiart/images/jacques-louis-david_napoleoncrossing-the-alps-at-the-st-bernard-pass-20th-may-1800-1801.jpg 484.945312105\n",
      "8 /Users/ecsark/Documents/visualdb/project/wikiart/images/m-c-escher_atrani-coast-of-amalfi-1.jpg 1465.56173868\n",
      "8 /Users/ecsark/Documents/visualdb/project/wikiart/images/rene-magritte_when-the-hour-strikes-1965.jpg 1563.95893825\n",
      "4 /Users/ecsark/Documents/visualdb/project/wikiart/images/antonio-canova_eurydice-1776.jpg 1439.54200808\n",
      "4 /Users/ecsark/Documents/visualdb/project/wikiart/images/pierre-paul-prud-hon_the-soul-breaking-the-bonds-that-attach-to-the-land.jpg 1396.15379576\n"
     ]
    }
   ],
   "source": [
    "dec = np.array(get_decision(X_test[4], clf))\n",
    "\n",
    "k_sim_idx = findMostSimilar(score_rank_zero, (np.array(dec)>0).sum(axis=1).tolist(), 6)\n",
    "for i in k_sim_idx:\n",
    "    print y_train[i], file_train[i], all_score[i]"
   ]
  },
  {
   "cell_type": "code",
   "execution_count": null,
   "metadata": {
    "collapsed": true
   },
   "outputs": [],
   "source": []
  }
 ],
 "metadata": {
  "kernelspec": {
   "display_name": "Python 2",
   "language": "python",
   "name": "python2"
  },
  "language_info": {
   "codemirror_mode": {
    "name": "ipython",
    "version": 2
   },
   "file_extension": ".py",
   "mimetype": "text/x-python",
   "name": "python",
   "nbconvert_exporter": "python",
   "pygments_lexer": "ipython2",
   "version": "2.7.11"
  }
 },
 "nbformat": 4,
 "nbformat_minor": 0
}
