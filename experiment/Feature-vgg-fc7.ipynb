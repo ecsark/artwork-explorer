{
 "cells": [
  {
   "cell_type": "code",
   "execution_count": 1,
   "metadata": {
    "collapsed": true
   },
   "outputs": [],
   "source": [
    "import caffe\n",
    "import lmdb\n",
    "import os\n",
    "import caffe.proto.caffe_pb2\n",
    "from caffe.io import datum_to_array\n",
    "import matplotlib.pyplot as plt\n",
    "%matplotlib inline\n",
    "import numpy as np\n",
    "from scipy.spatial import distance"
   ]
  },
  {
   "cell_type": "code",
   "execution_count": 2,
   "metadata": {
    "collapsed": false
   },
   "outputs": [],
   "source": [
    "def read_from_db(db_dir):\n",
    "    lmdb_env = lmdb.open(db_dir)\n",
    "    lmdb_txn = lmdb_env.begin()\n",
    "    lmdb_cursor = lmdb_txn.cursor()\n",
    "    datum = caffe.proto.caffe_pb2.Datum()\n",
    "\n",
    "    D = []\n",
    "\n",
    "    for idx, (key, value) in enumerate(lmdb_cursor):\n",
    "        datum.ParseFromString(value)\n",
    "        data = caffe.io.datum_to_array(datum)\n",
    "        D.append(data.flatten())\n",
    "\n",
    "    lmdb_env.close()\n",
    "    return D"
   ]
  },
  {
   "cell_type": "code",
   "execution_count": 3,
   "metadata": {
    "collapsed": true
   },
   "outputs": [],
   "source": [
    "def read_labels(label_file):\n",
    "    D = []\n",
    "    with open(label_file,'rb') as f:\n",
    "        for line in f:\n",
    "            D.append(int(line.split(' ')[1]))\n",
    "    return D"
   ]
  },
  {
   "cell_type": "code",
   "execution_count": 4,
   "metadata": {
    "collapsed": true
   },
   "outputs": [],
   "source": [
    "X_train = read_from_db('/Users/ecsark/Documents/visualdb/project/wikiart/train_vgg_feature_fc7')\n",
    "y_train = read_labels('/Users/ecsark/Documents/visualdb/project/wikiart/train.txt')\n",
    "X_test = read_from_db('/Users/ecsark/Documents/visualdb/project/wikiart/test_vgg_feature_fc7')\n",
    "y_test = read_labels('/Users/ecsark/Documents/visualdb/project/wikiart/test.txt')"
   ]
  },
  {
   "cell_type": "code",
   "execution_count": 5,
   "metadata": {
    "collapsed": false
   },
   "outputs": [
    {
     "data": {
      "text/plain": [
       "SVC(C=1.0, cache_size=200, class_weight=None, coef0=0.0, degree=3, gamma=0.0,\n",
       "  kernel='rbf', max_iter=-1, probability=False, random_state=None,\n",
       "  shrinking=True, tol=0.001, verbose=False)"
      ]
     },
     "execution_count": 5,
     "metadata": {},
     "output_type": "execute_result"
    }
   ],
   "source": [
    "from sklearn import svm\n",
    "clf = svm.SVC()\n",
    "clf.fit(X_train, y_train)"
   ]
  },
  {
   "cell_type": "code",
   "execution_count": 6,
   "metadata": {
    "collapsed": false
   },
   "outputs": [
    {
     "name": "stdout",
     "output_type": "stream",
     "text": [
      "0.5005\n"
     ]
    }
   ],
   "source": [
    "y_pred = clf.predict(X_test)\n",
    "error = sum([1 if p!=g else 0 for (p, g) in zip(y_pred, y_test)])\n",
    "print 1.0 - 1.0*error/len(y_test)"
   ]
  },
  {
   "cell_type": "code",
   "execution_count": 7,
   "metadata": {
    "collapsed": false,
    "scrolled": true
   },
   "outputs": [
    {
     "name": "stdout",
     "output_type": "stream",
     "text": [
      "[2, 5, 1, 5, 4, 1, 4, 8, 5, 8, 3, 3, 0, 4, 9, 4, 3, 2, 5, 2]\n",
      "[2, 2, 7, 5, 4, 6, 4, 8, 6, 8, 5, 3, 0, 4, 0, 4, 3, 7, 5, 4]\n"
     ]
    }
   ],
   "source": [
    "print list(y_pred[:20])\n",
    "print list(y_test[:20])"
   ]
  },
  {
   "cell_type": "code",
   "execution_count": 8,
   "metadata": {
    "collapsed": false
   },
   "outputs": [],
   "source": [
    "def findMostSimilar(X, x_query, k=5):\n",
    "    dist = distance.cdist(X, np.array([x_query]), 'euclidean')\n",
    "    return dist.flatten().argsort()[:k]"
   ]
  },
  {
   "cell_type": "code",
   "execution_count": 9,
   "metadata": {
    "collapsed": false
   },
   "outputs": [
    {
     "name": "stdout",
     "output_type": "stream",
     "text": [
      "[7146 5474  818 7384 6578 6699 3300 2315 7498 5900]\n",
      "[4, 4, 4, 4, 4, 4, 4, 4, 4, 1]\n"
     ]
    }
   ],
   "source": [
    "k_min_idx = findMostSimilar(X_train, X_test[4], 10)\n",
    "print k_min_idx\n",
    "print [y_train[i] for i in k_min_idx]"
   ]
  },
  {
   "cell_type": "code",
   "execution_count": 10,
   "metadata": {
    "collapsed": false
   },
   "outputs": [
    {
     "name": "stdout",
     "output_type": "stream",
     "text": [
      "2 1 [7, 1, 1, 1, 1, 8, 9, 3, 8, 2]\n",
      "2 5 [5, 2, 2, 5, 5, 5, 5, 6, 5, 2]\n",
      "7 1 [4, 7, 1, 7, 4, 2, 1, 1, 5, 2]\n",
      "5 3 [3, 3, 6, 3, 3, 9, 6, 6, 1, 5]\n",
      "4 4 [4, 4, 4, 4, 4, 4, 4, 4, 4, 1]\n",
      "6 1 [1, 1, 2, 7, 7, 7, 1, 1, 1, 5]\n",
      "4 4 [4, 1, 4, 5, 4, 7, 4, 4, 4, 5]\n",
      "8 8 [7, 8, 0, 9, 4, 2, 8, 8, 5, 8]\n",
      "6 5 [3, 0, 4, 7, 5, 5, 7, 9, 7, 5]\n",
      "8 1 [9, 1, 9, 1, 6, 1, 5, 2, 1, 9]\n",
      "5 3 [3, 3, 3, 5, 5, 3, 3, 3, 3, 6]\n",
      "3 3 [3, 3, 5, 3, 0, 2, 9, 3, 6, 6]\n",
      "0 0 [0, 0, 1, 0, 5, 8, 5, 5, 0, 1]\n",
      "4 4 [4, 4, 4, 8, 8, 4, 4, 4, 0, 2]\n",
      "0 1 [8, 1, 2, 0, 9, 1, 1, 1, 0, 3]\n",
      "4 6 [5, 6, 4, 7, 0, 2, 6, 6, 1, 4]\n",
      "3 3 [5, 3, 5, 5, 3, 3, 7, 5, 3, 3]\n",
      "7 2 [7, 2, 1, 9, 7, 9, 2, 2, 3, 1]\n",
      "5 5 [5, 5, 5, 0, 3, 0, 5, 2, 5, 3]\n",
      "4 1 [6, 0, 2, 4, 1, 1, 7, 6, 9, 9]\n"
     ]
    }
   ],
   "source": [
    "for i in range(20):\n",
    "    k_min_idx = findMostSimilar(X_train, X_test[i], 10)\n",
    "    labels = [y_train[j] for j in k_min_idx]\n",
    "    print y_test[i], max(set(labels), key=labels.count), labels"
   ]
  },
  {
   "cell_type": "code",
   "execution_count": 12,
   "metadata": {
    "collapsed": false
   },
   "outputs": [
    {
     "name": "stdout",
     "output_type": "stream",
     "text": [
      "0.3675\n"
     ]
    }
   ],
   "source": [
    "y_pred_max = []\n",
    "\n",
    "for x in X_test:\n",
    "    k_min_idx = findMostSimilar(X_train, x, 10)\n",
    "    labels = [y_train[i] for i in k_min_idx]\n",
    "    y_pred_max.append(max(set(labels), key=labels.count))\n",
    "\n",
    "error_max = sum([1 if p!=g else 0 for (p, g) in zip(y_pred_max, y_test)])\n",
    "print 1.0 - 1.0*error_max/len(y_pred_max)"
   ]
  }
 ],
 "metadata": {
  "kernelspec": {
   "display_name": "Python 2",
   "language": "python",
   "name": "python2"
  },
  "language_info": {
   "codemirror_mode": {
    "name": "ipython",
    "version": 2
   },
   "file_extension": ".py",
   "mimetype": "text/x-python",
   "name": "python",
   "nbconvert_exporter": "python",
   "pygments_lexer": "ipython2",
   "version": "2.7.11"
  }
 },
 "nbformat": 4,
 "nbformat_minor": 0
}
