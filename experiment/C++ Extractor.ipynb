{
 "cells": [
  {
   "cell_type": "code",
   "execution_count": 50,
   "metadata": {
    "collapsed": false
   },
   "outputs": [],
   "source": [
    "import numpy as np\n",
    "import caffe\n",
    "import cv2\n",
    "from scipy.spatial import distance\n",
    "from sklearn import svm\n",
    "import cPickle as pickle\n",
    "import os, sys\n",
    "import subprocess\n",
    "import lmdb"
   ]
  },
  {
   "cell_type": "code",
   "execution_count": 47,
   "metadata": {
    "collapsed": true
   },
   "outputs": [],
   "source": [
    "input_file = '/Users/ecsark/Documents/visualdb/project/artwork-explorer/data/input.txt'\n",
    "model_def = '/Users/ecsark/Documents/visualdb/project/artwork-explorer/data/test.prototxt'\n",
    "output_dir = '/Users/ecsark/Documents/visualdb/project/artwork-explorer/data/feature_output/'\n",
    "extract_feature_bin = '/Users/ecsark/Documents/visualdb/caffe/distribute/bin/extract_features.bin'\n",
    "model = '/Users/ecsark/Documents/visualdb/caffe/models/vgg/model.caffemodel'\n",
    "\n",
    "feature_def = 'fc7'\n",
    "run_command = [extract_feature_bin, model, model_def, feature_def, output_dir, '1', 'lmdb']"
   ]
  },
  {
   "cell_type": "code",
   "execution_count": 49,
   "metadata": {
    "collapsed": true
   },
   "outputs": [],
   "source": [
    "def read_from_db(db_dir):\n",
    "    lmdb_env = lmdb.open(db_dir)\n",
    "    lmdb_txn = lmdb_env.begin()\n",
    "    lmdb_cursor = lmdb_txn.cursor()\n",
    "    datum = caffe.proto.caffe_pb2.Datum()\n",
    "\n",
    "    D = []\n",
    "\n",
    "    for idx, (key, value) in enumerate(lmdb_cursor):\n",
    "        datum.ParseFromString(value)\n",
    "        data = caffe.io.datum_to_array(datum)\n",
    "        D.append(data.flatten())\n",
    "\n",
    "    lmdb_env.close()\n",
    "    return D"
   ]
  },
  {
   "cell_type": "code",
   "execution_count": 52,
   "metadata": {
    "collapsed": false
   },
   "outputs": [
    {
     "name": "stdout",
     "output_type": "stream",
     "text": [
      "[ 1.92554736  2.2056694   0.         ...,  1.22003651  0.          0.        ]\n"
     ]
    }
   ],
   "source": [
    "subprocess.call(['rm', '-rf', output_dir])\n",
    "ret = subprocess.call(run_command)\n",
    "if ret == 0:\n",
    "    ft = read_from_db(output_dir)[0]\n",
    "    print ft\n",
    "else:\n",
    "    print \"Feature extraction failed\"\n",
    "    \n"
   ]
  },
  {
   "cell_type": "code",
   "execution_count": 41,
   "metadata": {
    "collapsed": true
   },
   "outputs": [],
   "source": [
    "def execute(command):\n",
    "    process = subprocess.Popen(command, stdout=subprocess.PIPE, stderr=subprocess.STDOUT)\n",
    "\n",
    "    # Poll process for new output until finished\n",
    "    while True:\n",
    "        nextline = process.stdout.readline()\n",
    "        if nextline == '' and process.poll() != None:\n",
    "            break\n",
    "        sys.stdout.write(nextline)\n",
    "        sys.stdout.flush()\n",
    "\n",
    "    print process.communicate()[0]\n",
    "    print process.returncode"
   ]
  },
  {
   "cell_type": "code",
   "execution_count": 46,
   "metadata": {
    "collapsed": false
   },
   "outputs": [
    {
     "name": "stdout",
     "output_type": "stream",
     "text": [
      "E0406 14:41:58.797317 1980665856 extract_features.cpp:62] Using CPU\n",
      "[libprotobuf WARNING google/protobuf/io/coded_stream.cc:537] Reading dangerously large protocol message.  If the message turns out to be larger than 2147483647 bytes, parsing will be halted for security reasons.  To increase the limit (or to disable these warnings), see CodedInputStream::SetTotalBytesLimit() in google/protobuf/io/coded_stream.h.\n",
      "[libprotobuf WARNING google/protobuf/io/coded_stream.cc:78] The total number of bytes read was 574671595\n",
      "E0406 14:42:01.041414 1980665856 extract_features.cpp:133] Extacting Features\n",
      "E0406 14:42:01.787493 1980665856 extract_features.cpp:177] Extracted features of 1 query images for feature blob fc7\n",
      "E0406 14:42:01.800042 1980665856 extract_features.cpp:182] Successfully extracted the features!\n",
      "\n",
      "0\n"
     ]
    }
   ],
   "source": [
    "#call([extract_feature_bin, model, model_def, feature_def, output_dir, '1', 'lmdb'])\n",
    "run_command = [extract_feature_bin, model, model_def, feature_def, output_dir, '1', 'lmdb']\n",
    "execute(run_command)"
   ]
  },
  {
   "cell_type": "code",
   "execution_count": 17,
   "metadata": {
    "collapsed": false
   },
   "outputs": [
    {
     "data": {
      "text/plain": [
       "'E0406 13:38:40.402632 1980665856 extract_features.cpp:62] Using CPU\\n'"
      ]
     },
     "execution_count": 17,
     "metadata": {},
     "output_type": "execute_result"
    }
   ],
   "source": [
    "cmd = ' '.join([extract_feature_bin, model, model_def, feature_def, output_dir, '1', 'lmdb'])\n",
    "p = Popen(cmd, shell=True, stdin=PIPE, stdout=PIPE, stderr=STDOUT, close_fds=True)\n",
    "p.stdout.read()"
   ]
  },
  {
   "cell_type": "code",
   "execution_count": null,
   "metadata": {
    "collapsed": true
   },
   "outputs": [],
   "source": []
  }
 ],
 "metadata": {
  "kernelspec": {
   "display_name": "Python 2",
   "language": "python",
   "name": "python2"
  },
  "language_info": {
   "codemirror_mode": {
    "name": "ipython",
    "version": 2
   },
   "file_extension": ".py",
   "mimetype": "text/x-python",
   "name": "python",
   "nbconvert_exporter": "python",
   "pygments_lexer": "ipython2",
   "version": "2.7.11"
  }
 },
 "nbformat": 4,
 "nbformat_minor": 0
}
